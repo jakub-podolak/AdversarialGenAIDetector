{
 "cells": [
  {
   "cell_type": "code",
   "execution_count": 55,
   "metadata": {},
   "outputs": [
    {
     "name": "stdout",
     "output_type": "stream",
     "text": [
      "The autoreload extension is already loaded. To reload it, use:\n",
      "  %reload_ext autoreload\n"
     ]
    }
   ],
   "source": [
    "%load_ext autoreload\n",
    "%autoreload 2\n",
    "\n",
    "# Go up in the file hierarchy to the root folder\n",
    "import os\n",
    "while \"src\" in os.getcwd():\n",
    "    os.chdir('..')"
   ]
  },
  {
   "cell_type": "code",
   "execution_count": 56,
   "metadata": {},
   "outputs": [],
   "source": [
    "import pandas as pd\n",
    "import numpy as np\n",
    "from tqdm.auto import tqdm\n",
    "\n",
    "from transformers import pipeline"
   ]
  },
  {
   "cell_type": "markdown",
   "metadata": {},
   "source": [
    "# Prepare Test Suite"
   ]
  },
  {
   "cell_type": "code",
   "execution_count": 4,
   "metadata": {},
   "outputs": [],
   "source": [
    "from src.data import get_dataset"
   ]
  },
  {
   "cell_type": "code",
   "execution_count": 5,
   "metadata": {},
   "outputs": [
    {
     "data": {
      "text/plain": [
       "20000"
      ]
     },
     "execution_count": 5,
     "metadata": {},
     "output_type": "execute_result"
    }
   ],
   "source": [
    "len(get_dataset(\"ResearchAbstracts\").data)"
   ]
  },
  {
   "cell_type": "code",
   "execution_count": 6,
   "metadata": {},
   "outputs": [
    {
     "data": {
      "text/plain": [
       "1018"
      ]
     },
     "execution_count": 6,
     "metadata": {},
     "output_type": "execute_result"
    }
   ],
   "source": [
    "len(get_dataset(\"ChatGPTArticles\").data)"
   ]
  },
  {
   "cell_type": "code",
   "execution_count": 7,
   "metadata": {},
   "outputs": [
    {
     "data": {
      "text/plain": [
       "24322"
      ]
     },
     "execution_count": 7,
     "metadata": {},
     "output_type": "execute_result"
    }
   ],
   "source": [
    "len(get_dataset(\"HC3Dataset\").data)"
   ]
  },
  {
   "cell_type": "code",
   "execution_count": null,
   "metadata": {},
   "outputs": [],
   "source": [
    "def get_test_set(strat_size: int = 5_000, random_seed = 42):\n"
   ]
  },
  {
   "cell_type": "markdown",
   "metadata": {},
   "source": [
    "# Test Detectors"
   ]
  },
  {
   "cell_type": "markdown",
   "metadata": {
    "jp-MarkdownHeadingCollapsed": true
   },
   "source": [
    "## PirateXX/AI-Content-Detector"
   ]
  },
  {
   "cell_type": "code",
   "execution_count": 5,
   "metadata": {},
   "outputs": [
    {
     "data": {
      "application/vnd.jupyter.widget-view+json": {
       "model_id": "1670fa20d1dc4cb8aea8ae3821f85e8c",
       "version_major": 2,
       "version_minor": 0
      },
      "text/plain": [
       "config.json:   0%|          | 0.00/735 [00:00<?, ?B/s]"
      ]
     },
     "metadata": {},
     "output_type": "display_data"
    },
    {
     "data": {
      "application/vnd.jupyter.widget-view+json": {
       "model_id": "4dd60f248b59467c843fa058878e6e4c",
       "version_major": 2,
       "version_minor": 0
      },
      "text/plain": [
       "pytorch_model.bin:   0%|          | 0.00/499M [00:00<?, ?B/s]"
      ]
     },
     "metadata": {},
     "output_type": "display_data"
    },
    {
     "name": "stderr",
     "output_type": "stream",
     "text": [
      "/home/scur1745/.conda/envs/dl4nlp_gpu/lib/python3.11/site-packages/torch/_utils.py:831: UserWarning: TypedStorage is deprecated. It will be removed in the future and UntypedStorage will be the only storage class. This should only matter to you if you are using storages directly.  To access UntypedStorage directly, use tensor.untyped_storage() instead of tensor.storage()\n",
      "  return self.fget.__get__(instance, owner)()\n"
     ]
    },
    {
     "data": {
      "application/vnd.jupyter.widget-view+json": {
       "model_id": "166bc7e976f64b19b5c338a24c372492",
       "version_major": 2,
       "version_minor": 0
      },
      "text/plain": [
       "tokenizer_config.json:   0%|          | 0.00/1.34k [00:00<?, ?B/s]"
      ]
     },
     "metadata": {},
     "output_type": "display_data"
    },
    {
     "data": {
      "application/vnd.jupyter.widget-view+json": {
       "model_id": "ebbc20c998544208a5e408993205b1e0",
       "version_major": 2,
       "version_minor": 0
      },
      "text/plain": [
       "vocab.json:   0%|          | 0.00/999k [00:00<?, ?B/s]"
      ]
     },
     "metadata": {},
     "output_type": "display_data"
    },
    {
     "data": {
      "application/vnd.jupyter.widget-view+json": {
       "model_id": "da4e0266e38b4bc0bf76c48ba4a8ec22",
       "version_major": 2,
       "version_minor": 0
      },
      "text/plain": [
       "merges.txt:   0%|          | 0.00/456k [00:00<?, ?B/s]"
      ]
     },
     "metadata": {},
     "output_type": "display_data"
    },
    {
     "data": {
      "application/vnd.jupyter.widget-view+json": {
       "model_id": "12d81fc5db764e5bace47d9cf76dab87",
       "version_major": 2,
       "version_minor": 0
      },
      "text/plain": [
       "special_tokens_map.json:   0%|          | 0.00/957 [00:00<?, ?B/s]"
      ]
     },
     "metadata": {},
     "output_type": "display_data"
    },
    {
     "name": "stderr",
     "output_type": "stream",
     "text": [
      "/home/scur1745/.conda/envs/dl4nlp_gpu/lib/python3.11/site-packages/transformers/tokenization_utils_base.py:1601: FutureWarning: `clean_up_tokenization_spaces` was not set. It will be set to `True` by default. This behavior will be depracted in transformers v4.45, and will be then set to `False` by default. For more details check this issue: https://github.com/huggingface/transformers/issues/31884\n",
      "  warnings.warn(\n",
      "Hardware accelerator e.g. GPU is available in the environment, but no `device` argument is passed to the `Pipeline` object. Model will be on CPU.\n"
     ]
    }
   ],
   "source": [
    "# Use a pipeline as a high-level helper\n",
    "pipe = pipeline(\"text-classification\", model=\"PirateXX/AI-Content-Detector\")"
   ]
  },
  {
   "cell_type": "code",
   "execution_count": 7,
   "metadata": {},
   "outputs": [
    {
     "data": {
      "text/plain": [
       "{'label': 'LABEL_1', 'score': 0.8262282609939575}"
      ]
     },
     "execution_count": 7,
     "metadata": {},
     "output_type": "execute_result"
    }
   ],
   "source": [
    "pipe(\"Hello sir!\")[0] # Label_1 means REAL"
   ]
  },
  {
   "cell_type": "code",
   "execution_count": 10,
   "metadata": {},
   "outputs": [
    {
     "data": {
      "text/plain": [
       "{'label': 'LABEL_1', 'score': 0.999769389629364}"
      ]
     },
     "execution_count": 10,
     "metadata": {},
     "output_type": "execute_result"
    }
   ],
   "source": [
    "pipe(\"\"\"LinkedIn, a web of threads unseen,\n",
    "Where profiles gleam in corporate sheen.\n",
    "A stage for dreams, ambitions high,\n",
    "Where goals and hopes like banners fly.\"\"\")[0] # This is AI generated (ChatGPT)"
   ]
  },
  {
   "cell_type": "code",
   "execution_count": 11,
   "metadata": {},
   "outputs": [
    {
     "data": {
      "text/plain": [
       "[{'label': 'LABEL_1', 'score': 0.9987832903862}]"
      ]
     },
     "execution_count": 11,
     "metadata": {},
     "output_type": "execute_result"
    }
   ],
   "source": [
    "pipe(\"\"\"Here are some cool trip ideas to spark your wanderlust:\n",
    "\n",
    "1. Iceland Road Trip – The Land of Fire and Ice\n",
    "Highlights: Explore volcanic landscapes, geysers, and waterfalls like Gullfoss and Seljalandsfoss. Soak in the Blue Lagoon, chase the Northern Lights, and hike glaciers.\n",
    "Best Time to Visit: Summer for the Midnight Sun, or winter for the Northern Lights.\n",
    "Unique Factor: Experience geothermal hot springs and black sand beaches.\"\"\") # This is AI generated (ChatGPT)"
   ]
  },
  {
   "cell_type": "code",
   "execution_count": 12,
   "metadata": {},
   "outputs": [
    {
     "data": {
      "text/plain": [
       "[{'label': 'LABEL_0', 'score': 0.9998385906219482}]"
      ]
     },
     "execution_count": 12,
     "metadata": {},
     "output_type": "execute_result"
    }
   ],
   "source": [
    "pipe(\"\"\"My name is Thomas and my main goal is to make sure that I'm not just a guy who's going to be a part of the team. I'm going to be a part of the team.\n",
    "I'm going to be a part of the team. I'm going to be a part of the team. I'm going to\"\"\") # AI generated (GPT2)"
   ]
  },
  {
   "cell_type": "markdown",
   "metadata": {},
   "source": [
    "## ChatGPT Detector Roberta"
   ]
  },
  {
   "cell_type": "code",
   "execution_count": 13,
   "metadata": {},
   "outputs": [
    {
     "name": "stderr",
     "output_type": "stream",
     "text": [
      "/home/scur1745/.conda/envs/dl4nlp_gpu/lib/python3.11/site-packages/transformers/tokenization_utils_base.py:1601: FutureWarning: `clean_up_tokenization_spaces` was not set. It will be set to `True` by default. This behavior will be depracted in transformers v4.45, and will be then set to `False` by default. For more details check this issue: https://github.com/huggingface/transformers/issues/31884\n",
      "  warnings.warn(\n",
      "Hardware accelerator e.g. GPU is available in the environment, but no `device` argument is passed to the `Pipeline` object. Model will be on CPU.\n"
     ]
    }
   ],
   "source": [
    "pipe = pipeline(\"text-classification\", model=\"Hello-SimpleAI/chatgpt-detector-roberta\")"
   ]
  },
  {
   "cell_type": "code",
   "execution_count": 4,
   "metadata": {},
   "outputs": [
    {
     "data": {
      "text/plain": [
       "{'label': 'Human', 'score': 0.9994297623634338}"
      ]
     },
     "execution_count": 4,
     "metadata": {},
     "output_type": "execute_result"
    }
   ],
   "source": [
    "pipe(\"\"\"LinkedIn, a web of threads unseen,\n",
    "Where profiles gleam in corporate sheen.\n",
    "A stage for dreams, ambitions high,\n",
    "Where goals and hopes like banners fly.\"\"\")[0] # This is AI generated (ChatGPT)"
   ]
  },
  {
   "cell_type": "code",
   "execution_count": 5,
   "metadata": {},
   "outputs": [
    {
     "data": {
      "text/plain": [
       "[{'label': 'Human', 'score': 0.9985944628715515}]"
      ]
     },
     "execution_count": 5,
     "metadata": {},
     "output_type": "execute_result"
    }
   ],
   "source": [
    "pipe(\"\"\"\n",
    "LinkedIn, a web of threads unseen,\n",
    "Where profiles gleam in corporate sheen.\n",
    "A stage for dreams, ambitions high,\n",
    "Where goals and hopes like banners fly.\n",
    "\n",
    "Connections spark with every scroll,\n",
    "A virtual world to build a role.\n",
    "Endorsements sprinkle like the rain,\n",
    "To validate both growth and gain.\n",
    "\n",
    "Resumes in digital disguise,\n",
    "Experience distilled, concise.\n",
    "Each post a footstep on the way,\n",
    "To climb the ladder, seize the day.\n",
    "\n",
    "But in the hustle, don’t forget,\n",
    "Behind the clicks, real people set.\n",
    "For while we network, share, and speak,\n",
    "It’s human bonds we truly seek.\"\"\")"
   ]
  },
  {
   "cell_type": "code",
   "execution_count": 6,
   "metadata": {},
   "outputs": [
    {
     "data": {
      "text/plain": [
       "[{'label': 'ChatGPT', 'score': 0.9990754127502441}]"
      ]
     },
     "execution_count": 6,
     "metadata": {},
     "output_type": "execute_result"
    }
   ],
   "source": [
    "pipe(\"\"\"Here are some cool trip ideas to spark your wanderlust:\n",
    "\n",
    "1. Iceland Road Trip – The Land of Fire and Ice\n",
    "Highlights: Explore volcanic landscapes, geysers, and waterfalls like Gullfoss and Seljalandsfoss. Soak in the Blue Lagoon, chase the Northern Lights, and hike glaciers.\n",
    "Best Time to Visit: Summer for the Midnight Sun, or winter for the Northern Lights.\n",
    "Unique Factor: Experience geothermal hot springs and black sand beaches.\"\"\") # This is AI generated (ChatGPT)"
   ]
  },
  {
   "cell_type": "code",
   "execution_count": 7,
   "metadata": {},
   "outputs": [
    {
     "data": {
      "text/plain": [
       "[{'label': 'Human', 'score': 0.9531799554824829}]"
      ]
     },
     "execution_count": 7,
     "metadata": {},
     "output_type": "execute_result"
    }
   ],
   "source": [
    "pipe(\"\"\"My name is Thomas and my main goal is to make sure that I'm not just a guy who's going to be a part of the team. I'm going to be a part of the team.\n",
    "I'm going to be a part of the team. I'm going to be a part of the team. I'm going to\"\"\") # AI generated (GPT2)"
   ]
  },
  {
   "cell_type": "code",
   "execution_count": 8,
   "metadata": {},
   "outputs": [
    {
     "data": {
      "text/plain": [
       "[{'label': 'ChatGPT', 'score': 0.9987567663192749}]"
      ]
     },
     "execution_count": 8,
     "metadata": {},
     "output_type": "execute_result"
    }
   ],
   "source": [
    "# ChatGPT generated\n",
    "pipe(\"\"\"Instructions:\n",
    "Cook the Spaghetti:\n",
    "Bring a large pot of salted water to a boil. Add the spaghetti and cook according to the package instructions until al dente (usually 8-10 minutes). Drain the pasta, but reserve 1 cup of the pasta water.\n",
    "\n",
    "Prepare the Sauce:\n",
    "While the pasta is cooking, heat the olive oil in a large pan over medium heat. Add the sliced garlic and sauté for 1-2 minutes until fragrant and golden (but not burnt).\n",
    "\n",
    "Add Tomatoes:\n",
    "Pour in the crushed tomatoes and stir. Add sugar to balance the acidity of the tomatoes. Simmer for 10-15 minutes, stirring occasionally. Season with salt, pepper, and red pepper flakes (if using).\"\"\")"
   ]
  },
  {
   "cell_type": "code",
   "execution_count": 9,
   "metadata": {},
   "outputs": [
    {
     "data": {
      "text/plain": [
       "[{'label': 'Human', 'score': 0.780868649482727}]"
      ]
     },
     "execution_count": 9,
     "metadata": {},
     "output_type": "execute_result"
    }
   ],
   "source": [
    "# Human written\n",
    "pipe(\"\"\"STEP 1\n",
    "Put a large saucepan on a medium heat and add 1 tbsp olive oil.\n",
    "\n",
    "STEP 2\n",
    "Add 4 finely chopped bacon rashers and fry for 10 mins until golden and crisp.\n",
    "\n",
    "STEP 3\n",
    "Reduce the heat and add the 2 onions, 2 carrots, 2 celery sticks, 2 garlic cloves and the leaves from 2-3 sprigs rosemary, all finely chopped, then fry for 10 mins. Stir the veg often until it softens.\n",
    "\n",
    "STEP 4\n",
    "Increase the heat to medium-high, add 500g beef mince and cook stirring for 3-4 mins until the meat is browned all over\"\"\")"
   ]
  },
  {
   "cell_type": "markdown",
   "metadata": {},
   "source": [
    "## Load twitter dataset"
   ]
  },
  {
   "cell_type": "code",
   "execution_count": 36,
   "metadata": {},
   "outputs": [],
   "source": [
    "from src.data import get_dataset"
   ]
  },
  {
   "cell_type": "code",
   "execution_count": 37,
   "metadata": {},
   "outputs": [],
   "source": [
    "twitter_data = get_dataset(\"HC3Dataset\")"
   ]
  },
  {
   "cell_type": "code",
   "execution_count": 48,
   "metadata": {},
   "outputs": [],
   "source": [
    "import pandas as pd\n",
    "from tqdm.auto import tqdm\n",
    "from sklearn.metrics import accuracy_score, recall_score, precision_score\n",
    "\n",
    "twitter_data_df = pd.DataFrame({\n",
    "    \"text\": twitter_data.data,\n",
    "    \"label\": twitter_data.labels\n",
    "})"
   ]
  },
  {
   "cell_type": "code",
   "execution_count": 49,
   "metadata": {},
   "outputs": [
    {
     "data": {
      "text/html": [
       "<div>\n",
       "<style scoped>\n",
       "    .dataframe tbody tr th:only-of-type {\n",
       "        vertical-align: middle;\n",
       "    }\n",
       "\n",
       "    .dataframe tbody tr th {\n",
       "        vertical-align: top;\n",
       "    }\n",
       "\n",
       "    .dataframe thead th {\n",
       "        text-align: right;\n",
       "    }\n",
       "</style>\n",
       "<table border=\"1\" class=\"dataframe\">\n",
       "  <thead>\n",
       "    <tr style=\"text-align: right;\">\n",
       "      <th></th>\n",
       "      <th>text</th>\n",
       "      <th>label</th>\n",
       "    </tr>\n",
       "  </thead>\n",
       "  <tbody>\n",
       "    <tr>\n",
       "      <th>0</th>\n",
       "      <td>Basically there are many categories of \" Best ...</td>\n",
       "      <td>0</td>\n",
       "    </tr>\n",
       "    <tr>\n",
       "      <th>1</th>\n",
       "      <td>salt is good for not dying in car crashes and ...</td>\n",
       "      <td>0</td>\n",
       "    </tr>\n",
       "    <tr>\n",
       "      <th>2</th>\n",
       "      <td>The way it works is that old TV stations got a...</td>\n",
       "      <td>0</td>\n",
       "    </tr>\n",
       "    <tr>\n",
       "      <th>3</th>\n",
       "      <td>You ca n't just go around assassinating the le...</td>\n",
       "      <td>0</td>\n",
       "    </tr>\n",
       "    <tr>\n",
       "      <th>4</th>\n",
       "      <td>Wanting to kill the shit out of Germans drives...</td>\n",
       "      <td>0</td>\n",
       "    </tr>\n",
       "    <tr>\n",
       "      <th>...</th>\n",
       "      <td>...</td>\n",
       "      <td>...</td>\n",
       "    </tr>\n",
       "    <tr>\n",
       "      <th>48184</th>\n",
       "      <td>It's not uncommon for blood pressure to fluctu...</td>\n",
       "      <td>1</td>\n",
       "    </tr>\n",
       "    <tr>\n",
       "      <th>48185</th>\n",
       "      <td>There are several possible causes of a painles...</td>\n",
       "      <td>1</td>\n",
       "    </tr>\n",
       "    <tr>\n",
       "      <th>48186</th>\n",
       "      <td>It is not appropriate for me to recommend a sp...</td>\n",
       "      <td>1</td>\n",
       "    </tr>\n",
       "    <tr>\n",
       "      <th>48187</th>\n",
       "      <td>It is not uncommon for people with rheumatoid ...</td>\n",
       "      <td>1</td>\n",
       "    </tr>\n",
       "    <tr>\n",
       "      <th>48188</th>\n",
       "      <td>It is not uncommon to experience back pain, es...</td>\n",
       "      <td>1</td>\n",
       "    </tr>\n",
       "  </tbody>\n",
       "</table>\n",
       "<p>48189 rows × 2 columns</p>\n",
       "</div>"
      ],
      "text/plain": [
       "                                                    text  label\n",
       "0      Basically there are many categories of \" Best ...      0\n",
       "1      salt is good for not dying in car crashes and ...      0\n",
       "2      The way it works is that old TV stations got a...      0\n",
       "3      You ca n't just go around assassinating the le...      0\n",
       "4      Wanting to kill the shit out of Germans drives...      0\n",
       "...                                                  ...    ...\n",
       "48184  It's not uncommon for blood pressure to fluctu...      1\n",
       "48185  There are several possible causes of a painles...      1\n",
       "48186  It is not appropriate for me to recommend a sp...      1\n",
       "48187  It is not uncommon for people with rheumatoid ...      1\n",
       "48188  It is not uncommon to experience back pain, es...      1\n",
       "\n",
       "[48189 rows x 2 columns]"
      ]
     },
     "execution_count": 49,
     "metadata": {},
     "output_type": "execute_result"
    }
   ],
   "source": [
    "twitter_data_df"
   ]
  },
  {
   "cell_type": "code",
   "execution_count": 50,
   "metadata": {},
   "outputs": [],
   "source": [
    "twitter_data_df_1000 = twitter_data_df.sample(1000, random_state=42)"
   ]
  },
  {
   "cell_type": "code",
   "execution_count": 51,
   "metadata": {},
   "outputs": [
    {
     "data": {
      "application/vnd.jupyter.widget-view+json": {
       "model_id": "dbfbabc0a26b43b285bfd248945e3809",
       "version_major": 2,
       "version_minor": 0
      },
      "text/plain": [
       "  0%|          | 0/1000 [00:00<?, ?it/s]"
      ]
     },
     "metadata": {},
     "output_type": "display_data"
    }
   ],
   "source": [
    "predictions = []\n",
    "\n",
    "for text in tqdm(twitter_data_df_1000['text']):\n",
    "    predictions.append(pipe(text[:1000])[0]['label'])"
   ]
  },
  {
   "cell_type": "code",
   "execution_count": 67,
   "metadata": {},
   "outputs": [],
   "source": [
    "twitter_data_df_1000['prediction'] = predictions\n",
    "twitter_data_df_1000['predicted_class'] = twitter_data_df_1000['prediction'].apply(lambda x: 1 if 'ChatGPT' in x else 0)"
   ]
  },
  {
   "cell_type": "code",
   "execution_count": 68,
   "metadata": {},
   "outputs": [],
   "source": [
    "from sklearn.metrics import f1_score"
   ]
  },
  {
   "cell_type": "code",
   "execution_count": 70,
   "metadata": {},
   "outputs": [],
   "source": [
    "from src.data.transformation.augmentation import get_all_possible_augmentations"
   ]
  },
  {
   "cell_type": "code",
   "execution_count": 71,
   "metadata": {},
   "outputs": [
    {
     "data": {
      "text/plain": [
       "[{'augmentation_name': 'No augmentation',\n",
       "  'text': 'It is not uncommon for people with rheumatoid to eat that much fast food! I hate it...',\n",
       "  'label': 0},\n",
       " {'augmentation_name': 'RandomSpaces',\n",
       "  'text': 'It is not uncommon for people with rheumatoid to eat that much fast food! I hate  it...',\n",
       "  'label': 0},\n",
       " {'augmentation_name': 'RandomTypos',\n",
       "  'text': 'It is not uncommon for people with rheumatodi to eat that much fast food! I hate it...',\n",
       "  'label': 0},\n",
       " {'augmentation_name': 'RandomWordDeletion',\n",
       "  'text': 'It is not uncommon for people with to eat that much fast food! I hate it...',\n",
       "  'label': 0},\n",
       " {'augmentation_name': 'RandomWordSwap',\n",
       "  'text': 'It is not uncommon much people with rheumatoid to eat that for fast food! I hate it...',\n",
       "  'label': 0},\n",
       " {'augmentation_name': 'RandomCaseChange',\n",
       "  'text': 'It is not uncommon for people with rheumaToid to eat that much fast food! I hate it...',\n",
       "  'label': 0}]"
      ]
     },
     "execution_count": 71,
     "metadata": {},
     "output_type": "execute_result"
    }
   ],
   "source": [
    "get_all_possible_augmentations(\"It is not uncommon for people with rheumatoid to eat that much fast food! I hate it...\", 0)"
   ]
  },
  {
   "cell_type": "code",
   "execution_count": 72,
   "metadata": {},
   "outputs": [],
   "source": [
    "data_augmented = []\n",
    "\n",
    "for _, row in twitter_data_df_1000.iterrows():\n",
    "    data_augmented.append(get_all_possible_augmentations(row['text'], row['label']))"
   ]
  },
  {
   "cell_type": "code",
   "execution_count": 65,
   "metadata": {},
   "outputs": [
    {
     "data": {
      "text/html": [
       "<div>\n",
       "<style scoped>\n",
       "    .dataframe tbody tr th:only-of-type {\n",
       "        vertical-align: middle;\n",
       "    }\n",
       "\n",
       "    .dataframe tbody tr th {\n",
       "        vertical-align: top;\n",
       "    }\n",
       "\n",
       "    .dataframe thead th {\n",
       "        text-align: right;\n",
       "    }\n",
       "</style>\n",
       "<table border=\"1\" class=\"dataframe\">\n",
       "  <thead>\n",
       "    <tr style=\"text-align: right;\">\n",
       "      <th></th>\n",
       "      <th>augmentation_name</th>\n",
       "      <th>text_original</th>\n",
       "      <th>text_augmented</th>\n",
       "      <th>label</th>\n",
       "    </tr>\n",
       "  </thead>\n",
       "  <tbody>\n",
       "    <tr>\n",
       "      <th>0</th>\n",
       "      <td>RandomSpaces</td>\n",
       "      <td>The basic idea is that instead of buying one v...</td>\n",
       "      <td>The basic idea is that instead of buying one v...</td>\n",
       "      <td>0</td>\n",
       "    </tr>\n",
       "    <tr>\n",
       "      <th>1</th>\n",
       "      <td>RandomTypos</td>\n",
       "      <td>The basic idea is that instead of buying one v...</td>\n",
       "      <td>The basic idea is that instead of buying one v...</td>\n",
       "      <td>0</td>\n",
       "    </tr>\n",
       "    <tr>\n",
       "      <th>2</th>\n",
       "      <td>RandomWordDeletion</td>\n",
       "      <td>The basic idea is that instead of buying one v...</td>\n",
       "      <td>basic idea is that instead of buying one vacat...</td>\n",
       "      <td>0</td>\n",
       "    </tr>\n",
       "    <tr>\n",
       "      <th>3</th>\n",
       "      <td>RandomWordSwap</td>\n",
       "      <td>The basic idea is that instead of buying one v...</td>\n",
       "      <td>The basic idea is that instead of buying one v...</td>\n",
       "      <td>0</td>\n",
       "    </tr>\n",
       "    <tr>\n",
       "      <th>4</th>\n",
       "      <td>RandomCaseChange</td>\n",
       "      <td>The basic idea is that instead of buying one v...</td>\n",
       "      <td>The basic idea is that instead of buying one v...</td>\n",
       "      <td>0</td>\n",
       "    </tr>\n",
       "    <tr>\n",
       "      <th>...</th>\n",
       "      <td>...</td>\n",
       "      <td>...</td>\n",
       "      <td>...</td>\n",
       "      <td>...</td>\n",
       "    </tr>\n",
       "    <tr>\n",
       "      <th>4995</th>\n",
       "      <td>RandomSpaces</td>\n",
       "      <td>Well , imagine you have a Ph . D and you 're a...</td>\n",
       "      <td>Well , imagine you have a Ph . D and you 're a...</td>\n",
       "      <td>0</td>\n",
       "    </tr>\n",
       "    <tr>\n",
       "      <th>4996</th>\n",
       "      <td>RandomTypos</td>\n",
       "      <td>Well , imagine you have a Ph . D and you 're a...</td>\n",
       "      <td>Well , imagine you have a Ph . D and you 're a...</td>\n",
       "      <td>0</td>\n",
       "    </tr>\n",
       "    <tr>\n",
       "      <th>4997</th>\n",
       "      <td>RandomWordDeletion</td>\n",
       "      <td>Well , imagine you have a Ph . D and you 're a...</td>\n",
       "      <td>Well , imagine you have a Ph . D and you 're a...</td>\n",
       "      <td>0</td>\n",
       "    </tr>\n",
       "    <tr>\n",
       "      <th>4998</th>\n",
       "      <td>RandomWordSwap</td>\n",
       "      <td>Well , imagine you have a Ph . D and you 're a...</td>\n",
       "      <td>Well , imagine you have a Ph . D and you 're a...</td>\n",
       "      <td>0</td>\n",
       "    </tr>\n",
       "    <tr>\n",
       "      <th>4999</th>\n",
       "      <td>RandomCaseChange</td>\n",
       "      <td>Well , imagine you have a Ph . D and you 're a...</td>\n",
       "      <td>Well , imagine yoU have a Ph . D and you 're a...</td>\n",
       "      <td>0</td>\n",
       "    </tr>\n",
       "  </tbody>\n",
       "</table>\n",
       "<p>5000 rows × 4 columns</p>\n",
       "</div>"
      ],
      "text/plain": [
       "       augmentation_name                                      text_original  \\\n",
       "0           RandomSpaces  The basic idea is that instead of buying one v...   \n",
       "1            RandomTypos  The basic idea is that instead of buying one v...   \n",
       "2     RandomWordDeletion  The basic idea is that instead of buying one v...   \n",
       "3         RandomWordSwap  The basic idea is that instead of buying one v...   \n",
       "4       RandomCaseChange  The basic idea is that instead of buying one v...   \n",
       "...                  ...                                                ...   \n",
       "4995        RandomSpaces  Well , imagine you have a Ph . D and you 're a...   \n",
       "4996         RandomTypos  Well , imagine you have a Ph . D and you 're a...   \n",
       "4997  RandomWordDeletion  Well , imagine you have a Ph . D and you 're a...   \n",
       "4998      RandomWordSwap  Well , imagine you have a Ph . D and you 're a...   \n",
       "4999    RandomCaseChange  Well , imagine you have a Ph . D and you 're a...   \n",
       "\n",
       "                                         text_augmented  label  \n",
       "0     The basic idea is that instead of buying one v...      0  \n",
       "1     The basic idea is that instead of buying one v...      0  \n",
       "2     basic idea is that instead of buying one vacat...      0  \n",
       "3     The basic idea is that instead of buying one v...      0  \n",
       "4     The basic idea is that instead of buying one v...      0  \n",
       "...                                                 ...    ...  \n",
       "4995  Well , imagine you have a Ph . D and you 're a...      0  \n",
       "4996  Well , imagine you have a Ph . D and you 're a...      0  \n",
       "4997  Well , imagine you have a Ph . D and you 're a...      0  \n",
       "4998  Well , imagine you have a Ph . D and you 're a...      0  \n",
       "4999  Well , imagine yoU have a Ph . D and you 're a...      0  \n",
       "\n",
       "[5000 rows x 4 columns]"
      ]
     },
     "execution_count": 65,
     "metadata": {},
     "output_type": "execute_result"
    }
   ],
   "source": [
    "augmented_df = pd.DataFrame([item for row in data_augmented for item in row])\n",
    "augmented_df['prediction'] = "
   ]
  },
  {
   "cell_type": "code",
   "execution_count": null,
   "metadata": {},
   "outputs": [],
   "source": []
  }
 ],
 "metadata": {
  "kernelspec": {
   "display_name": "dl4nlp",
   "language": "python",
   "name": "dl4nlp"
  },
  "language_info": {
   "codemirror_mode": {
    "name": "ipython",
    "version": 3
   },
   "file_extension": ".py",
   "mimetype": "text/x-python",
   "name": "python",
   "nbconvert_exporter": "python",
   "pygments_lexer": "ipython3",
   "version": "3.11.5"
  }
 },
 "nbformat": 4,
 "nbformat_minor": 4
}
