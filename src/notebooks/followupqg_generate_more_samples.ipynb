{
 "cells": [
  {
   "cell_type": "markdown",
   "id": "c3ef32a8-133f-42f8-82b3-b2e70a8f92e4",
   "metadata": {},
   "source": [
    "# Load FollowupQg dataset"
   ]
  },
  {
   "cell_type": "code",
   "execution_count": 2,
   "id": "e3611806-cadb-4a2a-be4b-6d020750543d",
   "metadata": {
    "collapsed": true,
    "jupyter": {
     "outputs_hidden": true
    }
   },
   "outputs": [
    {
     "name": "stdout",
     "output_type": "stream",
     "text": [
      "Requirement already satisfied: openai in /home/scur1745/.conda/envs/dl4nlp_gpu/lib/python3.11/site-packages (1.48.0)\n",
      "Requirement already satisfied: anyio<5,>=3.5.0 in /home/scur1745/.conda/envs/dl4nlp_gpu/lib/python3.11/site-packages (from openai) (4.5.0)\n",
      "Requirement already satisfied: distro<2,>=1.7.0 in /home/scur1745/.conda/envs/dl4nlp_gpu/lib/python3.11/site-packages (from openai) (1.9.0)\n",
      "Requirement already satisfied: httpx<1,>=0.23.0 in /home/scur1745/.conda/envs/dl4nlp_gpu/lib/python3.11/site-packages (from openai) (0.27.2)\n",
      "Requirement already satisfied: jiter<1,>=0.4.0 in /home/scur1745/.conda/envs/dl4nlp_gpu/lib/python3.11/site-packages (from openai) (0.5.0)\n",
      "Requirement already satisfied: pydantic<3,>=1.9.0 in /home/scur1745/.conda/envs/dl4nlp_gpu/lib/python3.11/site-packages (from openai) (2.9.2)\n",
      "Requirement already satisfied: sniffio in /home/scur1745/.conda/envs/dl4nlp_gpu/lib/python3.11/site-packages (from openai) (1.3.1)\n",
      "Requirement already satisfied: tqdm>4 in /home/scur1745/.conda/envs/dl4nlp_gpu/lib/python3.11/site-packages (from openai) (4.66.5)\n",
      "Requirement already satisfied: typing-extensions<5,>=4.11 in /home/scur1745/.conda/envs/dl4nlp_gpu/lib/python3.11/site-packages (from openai) (4.12.2)\n",
      "Requirement already satisfied: idna>=2.8 in /home/scur1745/.conda/envs/dl4nlp_gpu/lib/python3.11/site-packages (from anyio<5,>=3.5.0->openai) (3.10)\n",
      "Requirement already satisfied: certifi in /home/scur1745/.conda/envs/dl4nlp_gpu/lib/python3.11/site-packages (from httpx<1,>=0.23.0->openai) (2024.8.30)\n",
      "Requirement already satisfied: httpcore==1.* in /home/scur1745/.conda/envs/dl4nlp_gpu/lib/python3.11/site-packages (from httpx<1,>=0.23.0->openai) (1.0.5)\n",
      "Requirement already satisfied: h11<0.15,>=0.13 in /home/scur1745/.conda/envs/dl4nlp_gpu/lib/python3.11/site-packages (from httpcore==1.*->httpx<1,>=0.23.0->openai) (0.14.0)\n",
      "Requirement already satisfied: annotated-types>=0.6.0 in /home/scur1745/.conda/envs/dl4nlp_gpu/lib/python3.11/site-packages (from pydantic<3,>=1.9.0->openai) (0.7.0)\n",
      "Requirement already satisfied: pydantic-core==2.23.4 in /home/scur1745/.conda/envs/dl4nlp_gpu/lib/python3.11/site-packages (from pydantic<3,>=1.9.0->openai) (2.23.4)\n"
     ]
    }
   ],
   "source": [
    "!pip install openai"
   ]
  },
  {
   "cell_type": "code",
   "execution_count": 1,
   "id": "70dab018-961e-4e37-8395-0763745b88a1",
   "metadata": {},
   "outputs": [
    {
     "data": {
      "application/vnd.jupyter.widget-view+json": {
       "model_id": "d5c0e8052d3f4803a5dd47a9a169fe96",
       "version_major": 2,
       "version_minor": 0
      },
      "text/plain": [
       "Downloading readme:   0%|          | 0.00/592 [00:00<?, ?B/s]"
      ]
     },
     "metadata": {},
     "output_type": "display_data"
    },
    {
     "name": "stderr",
     "output_type": "stream",
     "text": [
      "Downloading data: 100%|████████████████████████████████████████████████████████████████████████████████████████████████████████████| 2.95M/2.95M [00:00<00:00, 4.97MB/s]\n",
      "Downloading data: 100%|██████████████████████████████████████████████████████████████████████████████████████████████████████████████| 538k/538k [00:00<00:00, 1.23MB/s]\n",
      "Downloading data: 100%|██████████████████████████████████████████████████████████████████████████████████████████████████████████████| 517k/517k [00:00<00:00, 1.49MB/s]\n"
     ]
    },
    {
     "data": {
      "application/vnd.jupyter.widget-view+json": {
       "model_id": "ea44213c511c450486544101c913605e",
       "version_major": 2,
       "version_minor": 0
      },
      "text/plain": [
       "Generating train split: 0 examples [00:00, ? examples/s]"
      ]
     },
     "metadata": {},
     "output_type": "display_data"
    },
    {
     "data": {
      "application/vnd.jupyter.widget-view+json": {
       "model_id": "a7bd1654dcca4e96b285252405cd5ce2",
       "version_major": 2,
       "version_minor": 0
      },
      "text/plain": [
       "Generating validation split: 0 examples [00:00, ? examples/s]"
      ]
     },
     "metadata": {},
     "output_type": "display_data"
    },
    {
     "data": {
      "application/vnd.jupyter.widget-view+json": {
       "model_id": "48fb992e736442b9b90113795bcecd9b",
       "version_major": 2,
       "version_minor": 0
      },
      "text/plain": [
       "Generating test split: 0 examples [00:00, ? examples/s]"
      ]
     },
     "metadata": {},
     "output_type": "display_data"
    }
   ],
   "source": [
    "from datasets import load_dataset\n",
    "\n",
    "ds = load_dataset(\"Vivian12300/FollowupQG\")"
   ]
  },
  {
   "cell_type": "code",
   "execution_count": 8,
   "id": "baebc5e1-1131-4e01-ae05-c75e2e5385dd",
   "metadata": {},
   "outputs": [],
   "source": [
    "df = ds['test'].to_pandas()"
   ]
  },
  {
   "cell_type": "code",
   "execution_count": 21,
   "id": "aad94b6e-8e34-43b2-ad43-783ddf057f27",
   "metadata": {},
   "outputs": [
    {
     "name": "stderr",
     "output_type": "stream",
     "text": [
      "501it [06:34,  1.27it/s]\n"
     ]
    }
   ],
   "source": [
    "generated_followups = []\n",
    "\n",
    "for _, row in tqdm(df.iterrows()):\n",
    "    prompt = f\"\"\"|| Question == {row['question']} || Answer == {row['answer']}\"\"\"\n",
    "    response = client.chat.completions.create(\n",
    "      model=\"gpt-4o-mini\",\n",
    "        messages=[\n",
    "        {\n",
    "          \"role\": \"system\",\n",
    "          \"content\": [\n",
    "            {\n",
    "              \"type\": \"text\",\n",
    "              \"text\": \"You are a participant of Reddit forum. Please ask a follow-up question, given the original question and the other user's answer . Do not return anything else\"\n",
    "            }\n",
    "          ]\n",
    "        },\n",
    "        {\n",
    "          \"role\": \"user\",\n",
    "          \"content\": [\n",
    "            {\n",
    "              \"type\": \"text\",\n",
    "              \"text\": prompt,\n",
    "            }\n",
    "          ]\n",
    "        },\n",
    "        ],\n",
    "      temperature=1,\n",
    "      max_tokens=2048,\n",
    "      top_p=1,\n",
    "      frequency_penalty=0,\n",
    "      presence_penalty=0,\n",
    "      response_format={\n",
    "        \"type\": \"text\"\n",
    "      }\n",
    "    )\n",
    "    generated_followups.append(response.choices[0].message.content)"
   ]
  },
  {
   "cell_type": "code",
   "execution_count": 22,
   "id": "13b3cf08-f4a3-46fa-9b1c-d156c31f3adf",
   "metadata": {},
   "outputs": [],
   "source": [
    "df['generated-followup'] = generated_followups"
   ]
  },
  {
   "cell_type": "code",
   "execution_count": 25,
   "id": "202deabf-1fa1-40c5-b983-45c2696351ce",
   "metadata": {},
   "outputs": [
    {
     "name": "stdout",
     "output_type": "stream",
     "text": [
      "/gpfs/home4/scur1745/AdversarialGenAIDetector/src/notebooks\n"
     ]
    }
   ],
   "source": [
    "import os\n",
    "print(os.getcwd())"
   ]
  },
  {
   "cell_type": "code",
   "execution_count": 26,
   "id": "a934605d-dd00-42d5-a9d2-b7508cdc486c",
   "metadata": {},
   "outputs": [],
   "source": [
    "df.to_csv('../../raw_data/followupqg500.csv')"
   ]
  },
  {
   "cell_type": "code",
   "execution_count": 27,
   "id": "5bc9ee6b-eb8b-41be-8345-4de582c7cd88",
   "metadata": {},
   "outputs": [
    {
     "data": {
      "text/html": [
       "<div>\n",
       "<style scoped>\n",
       "    .dataframe tbody tr th:only-of-type {\n",
       "        vertical-align: middle;\n",
       "    }\n",
       "\n",
       "    .dataframe tbody tr th {\n",
       "        vertical-align: top;\n",
       "    }\n",
       "\n",
       "    .dataframe thead th {\n",
       "        text-align: right;\n",
       "    }\n",
       "</style>\n",
       "<table border=\"1\" class=\"dataframe\">\n",
       "  <thead>\n",
       "    <tr style=\"text-align: right;\">\n",
       "      <th></th>\n",
       "      <th>answer</th>\n",
       "      <th>follow-up</th>\n",
       "      <th>question</th>\n",
       "      <th>id</th>\n",
       "      <th>relation</th>\n",
       "      <th>generated-followup</th>\n",
       "    </tr>\n",
       "  </thead>\n",
       "  <tbody>\n",
       "    <tr>\n",
       "      <th>0</th>\n",
       "      <td>Animals can get sunburned like we do, pigs for...</td>\n",
       "      <td>But can they tan? Does their body create color...</td>\n",
       "      <td>ELI5 Do animals tan?</td>\n",
       "      <td>3000</td>\n",
       "      <td>Related</td>\n",
       "      <td>What other methods do animals use to protect t...</td>\n",
       "    </tr>\n",
       "    <tr>\n",
       "      <th>1</th>\n",
       "      <td>Gerd (GastroEsophageal Reflux Disease) is a pr...</td>\n",
       "      <td>I c this was the answer I was looking for. I m...</td>\n",
       "      <td>ELI5 What is GERD?</td>\n",
       "      <td>3001</td>\n",
       "      <td>Related</td>\n",
       "      <td>What are some common treatments or lifestyle c...</td>\n",
       "    </tr>\n",
       "    <tr>\n",
       "      <th>2</th>\n",
       "      <td>They did, the movies skip a lot of side detail...</td>\n",
       "      <td>Thanks. I’m listening to the audiobooks and to...</td>\n",
       "      <td>eli5 Why didn’t the dwarves fight in the War o...</td>\n",
       "      <td>3002</td>\n",
       "      <td>Related</td>\n",
       "      <td>What specific conflicts involving the dwarves ...</td>\n",
       "    </tr>\n",
       "    <tr>\n",
       "      <th>3</th>\n",
       "      <td>In a nutshell:  The sound waves from your voic...</td>\n",
       "      <td>Hey, I totally respect and appreciate this. Bu...</td>\n",
       "      <td>ELI5: How does our voice turn into code / get ...</td>\n",
       "      <td>3003</td>\n",
       "      <td>Related</td>\n",
       "      <td>What happens to the electrical signal while it...</td>\n",
       "    </tr>\n",
       "    <tr>\n",
       "      <th>4</th>\n",
       "      <td>The endgame is to get to \"the end\" where there...</td>\n",
       "      <td>Wasn't the End dimension only added to minecra...</td>\n",
       "      <td>eli5 how is the basic of minecraft. game....li...</td>\n",
       "      <td>3004</td>\n",
       "      <td>Slightly Related</td>\n",
       "      <td>What kind of different things can you craft in...</td>\n",
       "    </tr>\n",
       "    <tr>\n",
       "      <th>...</th>\n",
       "      <td>...</td>\n",
       "      <td>...</td>\n",
       "      <td>...</td>\n",
       "      <td>...</td>\n",
       "      <td>...</td>\n",
       "      <td>...</td>\n",
       "    </tr>\n",
       "    <tr>\n",
       "      <th>496</th>\n",
       "      <td>Well, technically, they are tangible.  You pro...</td>\n",
       "      <td>So when you save something it basically sends ...</td>\n",
       "      <td>ELI5: Why does storage in a hard-drive run out...</td>\n",
       "      <td>3496</td>\n",
       "      <td>Related</td>\n",
       "      <td>So, what happens to the data when a hard drive...</td>\n",
       "    </tr>\n",
       "    <tr>\n",
       "      <th>497</th>\n",
       "      <td>&gt;\\tBut why does it help?  **It doesn’t.** It i...</td>\n",
       "      <td>Wow, that’s really interesting. I was always l...</td>\n",
       "      <td>ELI5: Why does coin scratcher work on vending ...</td>\n",
       "      <td>3497</td>\n",
       "      <td>Related</td>\n",
       "      <td>If it's just a superstition, why do you think ...</td>\n",
       "    </tr>\n",
       "    <tr>\n",
       "      <th>498</th>\n",
       "      <td>Why would it require some continuous transfer ...</td>\n",
       "      <td>&gt;Why would it require some continuous transfer...</td>\n",
       "      <td>ELI5: If space-time is curved by mass, does th...</td>\n",
       "      <td>3498</td>\n",
       "      <td>Related</td>\n",
       "      <td>If mass doesn't require energy to curve spacet...</td>\n",
       "    </tr>\n",
       "    <tr>\n",
       "      <th>499</th>\n",
       "      <td>My body doesn’t  jerk, but about 5 minutes aft...</td>\n",
       "      <td>Do you suffer from anxiety or stress? This hap...</td>\n",
       "      <td>Eli5: What actually happens when we inadverten...</td>\n",
       "      <td>3499</td>\n",
       "      <td>Slightly Related</td>\n",
       "      <td>Have you noticed any specific triggers or patt...</td>\n",
       "    </tr>\n",
       "    <tr>\n",
       "      <th>500</th>\n",
       "      <td>These replies are strange to me. They all clai...</td>\n",
       "      <td>This is what I was looking for. I took some an...</td>\n",
       "      <td>ELI5:How do Probiotics work?</td>\n",
       "      <td>3500</td>\n",
       "      <td>Slightly Related</td>\n",
       "      <td>Have you noticed any specific improvements in ...</td>\n",
       "    </tr>\n",
       "  </tbody>\n",
       "</table>\n",
       "<p>501 rows × 6 columns</p>\n",
       "</div>"
      ],
      "text/plain": [
       "                                                answer  \\\n",
       "0    Animals can get sunburned like we do, pigs for...   \n",
       "1    Gerd (GastroEsophageal Reflux Disease) is a pr...   \n",
       "2    They did, the movies skip a lot of side detail...   \n",
       "3    In a nutshell:  The sound waves from your voic...   \n",
       "4    The endgame is to get to \"the end\" where there...   \n",
       "..                                                 ...   \n",
       "496  Well, technically, they are tangible.  You pro...   \n",
       "497  >\\tBut why does it help?  **It doesn’t.** It i...   \n",
       "498  Why would it require some continuous transfer ...   \n",
       "499  My body doesn’t  jerk, but about 5 minutes aft...   \n",
       "500  These replies are strange to me. They all clai...   \n",
       "\n",
       "                                             follow-up  \\\n",
       "0    But can they tan? Does their body create color...   \n",
       "1    I c this was the answer I was looking for. I m...   \n",
       "2    Thanks. I’m listening to the audiobooks and to...   \n",
       "3    Hey, I totally respect and appreciate this. Bu...   \n",
       "4    Wasn't the End dimension only added to minecra...   \n",
       "..                                                 ...   \n",
       "496  So when you save something it basically sends ...   \n",
       "497  Wow, that’s really interesting. I was always l...   \n",
       "498  >Why would it require some continuous transfer...   \n",
       "499  Do you suffer from anxiety or stress? This hap...   \n",
       "500  This is what I was looking for. I took some an...   \n",
       "\n",
       "                                              question    id  \\\n",
       "0                                 ELI5 Do animals tan?  3000   \n",
       "1                                   ELI5 What is GERD?  3001   \n",
       "2    eli5 Why didn’t the dwarves fight in the War o...  3002   \n",
       "3    ELI5: How does our voice turn into code / get ...  3003   \n",
       "4    eli5 how is the basic of minecraft. game....li...  3004   \n",
       "..                                                 ...   ...   \n",
       "496  ELI5: Why does storage in a hard-drive run out...  3496   \n",
       "497  ELI5: Why does coin scratcher work on vending ...  3497   \n",
       "498  ELI5: If space-time is curved by mass, does th...  3498   \n",
       "499  Eli5: What actually happens when we inadverten...  3499   \n",
       "500                       ELI5:How do Probiotics work?  3500   \n",
       "\n",
       "             relation                                 generated-followup  \n",
       "0             Related  What other methods do animals use to protect t...  \n",
       "1             Related  What are some common treatments or lifestyle c...  \n",
       "2             Related  What specific conflicts involving the dwarves ...  \n",
       "3             Related  What happens to the electrical signal while it...  \n",
       "4    Slightly Related  What kind of different things can you craft in...  \n",
       "..                ...                                                ...  \n",
       "496           Related  So, what happens to the data when a hard drive...  \n",
       "497           Related  If it's just a superstition, why do you think ...  \n",
       "498           Related  If mass doesn't require energy to curve spacet...  \n",
       "499  Slightly Related  Have you noticed any specific triggers or patt...  \n",
       "500  Slightly Related  Have you noticed any specific improvements in ...  \n",
       "\n",
       "[501 rows x 6 columns]"
      ]
     },
     "execution_count": 27,
     "metadata": {},
     "output_type": "execute_result"
    }
   ],
   "source": [
    "df"
   ]
  },
  {
   "cell_type": "code",
   "execution_count": null,
   "id": "ed415efb-a104-42d1-bc84-38e2c5b17338",
   "metadata": {},
   "outputs": [],
   "source": []
  }
 ],
 "metadata": {
  "kernelspec": {
   "display_name": "Python 3 (ipykernel)",
   "language": "python",
   "name": "python3"
  },
  "language_info": {
   "codemirror_mode": {
    "name": "ipython",
    "version": 3
   },
   "file_extension": ".py",
   "mimetype": "text/x-python",
   "name": "python",
   "nbconvert_exporter": "python",
   "pygments_lexer": "ipython3",
   "version": "3.11.5"
  }
 },
 "nbformat": 4,
 "nbformat_minor": 5
}
