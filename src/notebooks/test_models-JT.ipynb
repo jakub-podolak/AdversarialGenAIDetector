{
 "cells": [
  {
   "cell_type": "code",
   "execution_count": 1,
   "metadata": {},
   "outputs": [],
   "source": [
    "%matplotlib inline\n",
    "%matplotlib widget\n",
    "%load_ext autoreload\n",
    "%autoreload 2\n",
    "\n",
    "# Go up in the file hierarchy to the root folder\n",
    "import os\n",
    "import sys\n",
    "while \"src\" in os.getcwd():\n",
    "    os.chdir('..')\n",
    "\n",
    "sys.path.append(\"src\")"
   ]
  },
  {
   "cell_type": "code",
   "execution_count": 2,
   "metadata": {},
   "outputs": [],
   "source": [
    "import pandas as pd\n",
    "import numpy as np\n",
    "from tqdm.auto import tqdm\n",
    "\n",
    "from transformers import pipeline, AutoTokenizer, AutoModelForSequenceClassification\n",
    "from src.models import get_model\n",
    "\n",
    "import torch.nn.functional as F\n",
    "import torch"
   ]
  },
  {
   "cell_type": "code",
   "execution_count": 3,
   "metadata": {},
   "outputs": [],
   "source": [
    "from src.data import get_dataset"
   ]
  },
  {
   "cell_type": "code",
   "execution_count": 4,
   "metadata": {},
   "outputs": [
    {
     "data": {
      "text/plain": [
       "\"NUT Cymru had responses from 17 of Wales' 22 local authorities to Freedom of Information requests.\\nThe number of assaults average at ...0.34 per 1,000 children in care in Wales, according to data obtained by NUT Cymru from 17 out of 22 local authorities in response to Freedom of Information requests.\""
      ]
     },
     "execution_count": 4,
     "metadata": {},
     "output_type": "execute_result"
    }
   ],
   "source": [
    "get_dataset(\"XsumLlama\").data[-1]"
   ]
  },
  {
   "cell_type": "code",
   "execution_count": 5,
   "metadata": {},
   "outputs": [
    {
     "data": {
      "text/plain": [
       "\"NUT Cymru had responses from 17 of Wales' 22 local authorities to Freedom of Information requests.\\nThe number of child protection conferences held in each authority ranged from 25 to 1,029.\\nThe average number of child protection conferences held in each authority was 134.\\nThe total number of child protection conferences held across all authorities was 2,377.\\nNUT Cymru is calling for an urgent review of the child protection system in Wales.\""
      ]
     },
     "execution_count": 5,
     "metadata": {},
     "output_type": "execute_result"
    }
   ],
   "source": [
    "get_dataset(\"XsumVicuna\").data[-1]"
   ]
  },
  {
   "cell_type": "markdown",
   "metadata": {},
   "source": [
    "# Test Detectors"
   ]
  },
  {
   "cell_type": "code",
   "execution_count": 6,
   "metadata": {},
   "outputs": [],
   "source": [
    "device='cuda:0'"
   ]
  },
  {
   "cell_type": "code",
   "execution_count": 7,
   "metadata": {},
   "outputs": [],
   "source": [
    "from transformers import RobertaTokenizer, RobertaForSequenceClassification\n",
    "from RADAR.models.detector import Detector"
   ]
  },
  {
   "cell_type": "code",
   "execution_count": 8,
   "metadata": {},
   "outputs": [
    {
     "name": "stderr",
     "output_type": "stream",
     "text": [
      "/home/scur1745/.conda/envs/dl4nlp_gpu/lib/python3.11/site-packages/transformers/tokenization_utils_base.py:1601: FutureWarning: `clean_up_tokenization_spaces` was not set. It will be set to `True` by default. This behavior will be depracted in transformers v4.45, and will be then set to `False` by default. For more details check this issue: https://github.com/huggingface/transformers/issues/31884\n",
      "  warnings.warn(\n"
     ]
    }
   ],
   "source": [
    "roberta_model = RobertaForSequenceClassification.from_pretrained(\"output_roberta_twibot22/checkpoint-1570\", num_labels=2).to(device)\n",
    "roberta_aug_model = RobertaForSequenceClassification.from_pretrained(\"output_roberta_augmentations/checkpoint-1570\", num_labels=2).to(device)\n",
    "\n",
    "\n",
    "tokenizer = RobertaTokenizer.from_pretrained(\"roberta-large\")\n"
   ]
  },
  {
   "cell_type": "code",
   "execution_count": 9,
   "metadata": {},
   "outputs": [
    {
     "name": "stderr",
     "output_type": "stream",
     "text": [
      "Some weights of RobertaForSequenceClassification were not initialized from the model checkpoint at roberta-large and are newly initialized: ['classifier.dense.bias', 'classifier.dense.weight', 'classifier.out_proj.bias', 'classifier.out_proj.weight']\n",
      "You should probably TRAIN this model on a down-stream task to be able to use it for predictions and inference.\n",
      "/gpfs/home4/scur1745/AdversarialGenAIDetector/RADAR/models/detector.py:18: FutureWarning: You are using `torch.load` with `weights_only=False` (the current default value), which uses the default pickle module implicitly. It is possible to construct malicious pickle data which will execute arbitrary code during unpickling (See https://github.com/pytorch/pytorch/blob/main/SECURITY.md#untrusted-models for more details). In a future release, the default value for `weights_only` will be flipped to `True`. This limits the functions that could be executed during unpickling. Arbitrary objects will no longer be allowed to be loaded via this mode unless they are explicitly allowlisted by the user via `torch.serialization.add_safe_globals`. We recommend you start setting `weights_only=True` for any use case where you don't have full control of the loaded file. Please open an issue on GitHub for any issues related to this experimental feature.\n",
      "  self.model.load_state_dict(torch.load(checkpoint_path))\n"
     ]
    },
    {
     "name": "stdout",
     "output_type": "stream",
     "text": [
      "Loading checkpoint from RADAR/model_checkpoints/RADAR2/best_detector_model.pt\n"
     ]
    },
    {
     "name": "stderr",
     "output_type": "stream",
     "text": [
      "Some weights of RobertaForSequenceClassification were not initialized from the model checkpoint at roberta-large and are newly initialized: ['classifier.dense.bias', 'classifier.dense.weight', 'classifier.out_proj.bias', 'classifier.out_proj.weight']\n",
      "You should probably TRAIN this model on a down-stream task to be able to use it for predictions and inference.\n"
     ]
    },
    {
     "name": "stdout",
     "output_type": "stream",
     "text": [
      "Loading checkpoint from RADAR/model_checkpoints/RADARcontr/best_detector_contrastive_new.pt\n"
     ]
    }
   ],
   "source": [
    "custom_radar = Detector(model_name=\"roberta-large\", checkpoint_path=\"RADAR/model_checkpoints/RADAR2/best_detector_model.pt\")\n",
    "custom_radar_contrastive = Detector(model_name=\"roberta-large\", checkpoint_path=\"RADAR/model_checkpoints/RADARcontr/best_detector_contrastive_new.pt\")\n"
   ]
  },
  {
   "cell_type": "code",
   "execution_count": 10,
   "metadata": {},
   "outputs": [],
   "source": [
    "def infer_custom_radar(text: str):\n",
    "    _, logits = custom_radar.predict(text, logits=True)\n",
    "    logits = F.softmax(logits, dim=-1)\n",
    "    return logits[0][0].item()\n",
    "\n",
    "\n",
    "def infer_custom_radar_contrastive(text: str):\n",
    "    _, logits = custom_radar_contrastive.predict(text, logits=True)\n",
    "    logits = F.softmax(logits, dim=-1)\n",
    "    return logits[0][0].item()\n",
    "    \n",
    "    \n",
    "    \n",
    "\n",
    "def infer_roberta(text: str):\n",
    "    encoded_input = tokenizer(text, return_tensors=\"pt\").to(device)\n",
    "    output = roberta_model(**encoded_input)\n",
    "    logits = F.softmax(output.logits, dim=-1)\n",
    "    label = logits.argmax(-1)\n",
    "    score = logits.max().item()\n",
    "    if label == 0:\n",
    "        return 1 - score\n",
    "    else:\n",
    "        return score\n",
    "\n",
    "    \n",
    "    \n",
    "pipe_piratexx = pipeline(\"text-classification\", model=\"PirateXX/AI-Content-Detector\", device=device)\n",
    "\n",
    "def infer_piratexx(text: str):\n",
    "    pred = pipe_piratexx(text)[0]\n",
    "    label = pred['label']\n",
    "    score = pred['score']\n",
    "    if label == 'LABEL_1': # Real\n",
    "        return 1 - score\n",
    "    return score\n",
    "\n",
    "\n",
    "pipe_simpleai = pipeline(\"text-classification\", model=\"Hello-SimpleAI/chatgpt-detector-roberta\", device=device)\n",
    "\n",
    "def infer_simpleai(text: str):\n",
    "    pred = pipe_simpleai(text)[0]\n",
    "    label = pred['label']\n",
    "    score = pred['score']\n",
    "    if label == 'Human': # Real\n",
    "        return 1 - score\n",
    "    return score\n",
    "\n",
    "pipe_radar = pipeline(\"text-classification\", model=\"TrustSafeAI/RADAR-Vicuna-7B\", device=device)\n",
    "model_name_radar = \"TrustSafeAI/RADAR-Vicuna-7B\"\n",
    "detector_radar = AutoModelForSequenceClassification.from_pretrained(model_name_radar)\n",
    "tokenizer = AutoTokenizer.from_pretrained(model_name_radar)\n",
    "detector_radar.eval()\n",
    "detector_radar.to(device)\n",
    "\n",
    "def infer_radar(text: str):\n",
    "    with torch.no_grad():\n",
    "        inputs = tokenizer([text], padding=True, truncation=True, max_length=512, return_tensors=\"pt\")\n",
    "        inputs = {k:v.to(device) for k,v in inputs.items()}\n",
    "        output_probs = F.log_softmax(detector_radar(**inputs).logits,-1)[:,0].exp().tolist()[0]\n",
    "    # Default threshold\n",
    "    return output_probs\n",
    "\n",
    "\n",
    "ALL_INFERENCE_MODELS = [\n",
    "    (\"piratexx\", infer_piratexx),\n",
    "    (\"simpleai\", infer_simpleai),\n",
    "    (\"radar\", infer_radar),\n",
    "    (\"roberta_large\", infer_roberta),\n",
    "    (\"radar_ours\", infer_custom_radar),\n",
    "    (\"radar_ours_contrastive\", infer_custom_radar_contrastive)\n",
    "]\n",
    "\n",
    "def get_predictions_all(text: str):\n",
    "    res = {}\n",
    "    for model_name, infer_function in ALL_INFERENCE_MODELS:\n",
    "        res[model_name] = infer_function(text)\n",
    "    return res"
   ]
  },
  {
   "cell_type": "code",
   "execution_count": 11,
   "metadata": {},
   "outputs": [],
   "source": [
    "CHATGPT_TEXT = \"\"\"Instructions:\n",
    "Cook the Spaghetti:\n",
    "Bring a large pot of salted water to a boil. Add the spaghetti and cook according to the package instructions until al dente (usually 8-10 minutes). Drain the pasta, but reserve 1 cup of the pasta water.\n",
    "\n",
    "Prepare the Sauce:\n",
    "While the pasta is cooking, heat the olive oil in a large pan over medium heat. Add the sliced garlic and sauté for 1-2 minutes until fragrant and golden (but not burnt).\n",
    "\n",
    "Add Tomatoes:\n",
    "Pour in the crushed tomatoes and stir. Add sugar to balance the acidity of the tomatoes. Simmer for 10-15 minutes, stirring occasionally. Season with salt, pepper, and red pepper flakes (if using).\"\"\""
   ]
  },
  {
   "cell_type": "code",
   "execution_count": 12,
   "metadata": {},
   "outputs": [],
   "source": [
    "RADAR_TEXT_AI_EXAMPLE = \"\"\"It's true I can't help but feel that if only I could keep up with the rapid pace of change that humans go through I could possibly become a tad more captivating. Though I do admit my optimism may be a bit too exuberant.\"\"\""
   ]
  },
  {
   "cell_type": "code",
   "execution_count": 13,
   "metadata": {},
   "outputs": [
    {
     "data": {
      "text/plain": [
       "{'piratexx': 0.12114912271499634,\n",
       " 'simpleai': 0.9987567663192749,\n",
       " 'radar': 0.45676806569099426,\n",
       " 'roberta_large': 0.5006150603294373,\n",
       " 'radar_ours': 0.5447683334350586,\n",
       " 'radar_ours_contrastive': 0.4566602110862732}"
      ]
     },
     "execution_count": 13,
     "metadata": {},
     "output_type": "execute_result"
    }
   ],
   "source": [
    "get_predictions_all(CHATGPT_TEXT)"
   ]
  },
  {
   "cell_type": "code",
   "execution_count": 14,
   "metadata": {},
   "outputs": [
    {
     "data": {
      "text/plain": [
       "{'piratexx': 0.01600170135498047,\n",
       " 'simpleai': 0.0002447962760925293,\n",
       " 'radar': 0.9988686442375183,\n",
       " 'roberta_large': 0.5006150603294373,\n",
       " 'radar_ours': 0.5346388816833496,\n",
       " 'radar_ours_contrastive': 0.9988681077957153}"
      ]
     },
     "execution_count": 14,
     "metadata": {},
     "output_type": "execute_result"
    }
   ],
   "source": [
    "get_predictions_all(\"Hello ,at my place this is jakuuub, i love you all!\")"
   ]
  },
  {
   "cell_type": "code",
   "execution_count": 15,
   "metadata": {},
   "outputs": [
    {
     "data": {
      "text/plain": [
       "{'piratexx': 0.0007573366165161133,\n",
       " 'simpleai': 0.0005797147750854492,\n",
       " 'radar': 0.9991071224212646,\n",
       " 'roberta_large': 0.5006150603294373,\n",
       " 'radar_ours': 0.5492396950721741,\n",
       " 'radar_ours_contrastive': 0.9991070628166199}"
      ]
     },
     "execution_count": 15,
     "metadata": {},
     "output_type": "execute_result"
    }
   ],
   "source": [
    "get_predictions_all(RADAR_TEXT_AI_EXAMPLE)"
   ]
  },
  {
   "cell_type": "markdown",
   "metadata": {},
   "source": [
    "# Load test datasets"
   ]
  },
  {
   "cell_type": "code",
   "execution_count": 13,
   "metadata": {},
   "outputs": [],
   "source": [
    "from src.data import get_dataset"
   ]
  },
  {
   "cell_type": "code",
   "execution_count": 14,
   "metadata": {},
   "outputs": [
    {
     "name": "stderr",
     "output_type": "stream",
     "text": [
      "You are using the default legacy behaviour of the <class 'transformers.models.t5.tokenization_t5.T5Tokenizer'>. This is expected, and simply means that the `legacy` (previous) behavior will be used so nothing changes for you. If you want to use the new behaviour, set `legacy=False`. This should only be set if you understand what it means, and thoroughly read the reason why this was added as explained in https://github.com/huggingface/transformers/pull/24565\n"
     ]
    },
    {
     "name": "stdout",
     "output_type": "stream",
     "text": [
      "Paraphrase 1: Paraphrase: Paraphrasing is a very common form of paraphrase.\n",
      "Paraphrase 2: Paraphrase: The AI model was able to detect human-like text with high accuracy.\n",
      "Paraphrase 3: Paraphrase: The AI model was able to detect human-like text with high accuracy.\n"
     ]
    }
   ],
   "source": [
    "from src.data.transformation.augmentation import ALL_AUGMENTATIONS, ALL_AUGMENTATIONS_PROBA, create_augmentation_pipeline_proba"
   ]
  },
  {
   "cell_type": "code",
   "execution_count": 15,
   "metadata": {},
   "outputs": [],
   "source": [
    "long_text = \"\"\"\n",
    "Hello Jakub! Super nice to talk with you. I love eating pizza und cola mega yummers!\n",
    "I am now listening to an interesting history podcast. Wowza! Polska gurom\n",
    "\"\"\""
   ]
  },
  {
   "cell_type": "code",
   "execution_count": 16,
   "metadata": {},
   "outputs": [],
   "source": [
    "pipeline_augmentation = create_augmentation_pipeline_proba()"
   ]
  },
  {
   "cell_type": "code",
   "execution_count": 17,
   "metadata": {},
   "outputs": [
    {
     "data": {
      "text/plain": [
       "'Hello Jakub ! Super nice to talk with you. I love eating pizza und cola mega yummers! I am now listening to an interestigg history podcast. Wowza! Polska gurom'"
      ]
     },
     "execution_count": 17,
     "metadata": {},
     "output_type": "execute_result"
    }
   ],
   "source": [
    "pipeline_augmentation(long_text)"
   ]
  },
  {
   "cell_type": "code",
   "execution_count": 21,
   "metadata": {},
   "outputs": [
    {
     "data": {
      "text/plain": [
       "'Tello Jakub! Super nice to Xalk with you. I love eating pizza und cola mega yummers! I am now listening to an in teresting his tory podcast. Wowza! Polska gurom'"
      ]
     },
     "execution_count": 21,
     "metadata": {},
     "output_type": "execute_result"
    }
   ],
   "source": [
    "pipeline_augmentation(long_text)"
   ]
  },
  {
   "cell_type": "code",
   "execution_count": 22,
   "metadata": {},
   "outputs": [
    {
     "data": {
      "text/plain": [
       "'Hello Jakub! S uper nPce to talk with you. I love eating pizza und cola mega yummers! I a m now listening to an interesting history podcast. Wowza! Polska gurom'"
      ]
     },
     "execution_count": 22,
     "metadata": {},
     "output_type": "execute_result"
    }
   ],
   "source": [
    "pipeline_augmentation(long_text)"
   ]
  },
  {
   "cell_type": "code",
   "execution_count": 23,
   "metadata": {},
   "outputs": [
    {
     "data": {
      "text/plain": [
       "'Hello Jakub! Super nice to talk with yOu. I love eating pizza und cola mega yummers! I am now Oistening to an interesting history ast. podc Wowza! P olska gurom'"
      ]
     },
     "execution_count": 23,
     "metadata": {},
     "output_type": "execute_result"
    }
   ],
   "source": [
    "pipeline_augmentation(long_text)"
   ]
  },
  {
   "cell_type": "code",
   "execution_count": 24,
   "metadata": {},
   "outputs": [
    {
     "data": {
      "text/plain": [
       "'xello Jakub! Super nice to talk with I you. love eating pizza und cola mega yummers! I am now listeOing to an interesting history podcast. Wowza! Polska gurom'"
      ]
     },
     "execution_count": 24,
     "metadata": {},
     "output_type": "execute_result"
    }
   ],
   "source": [
    "pipeline_augmentation(long_text)"
   ]
  },
  {
   "cell_type": "code",
   "execution_count": 25,
   "metadata": {},
   "outputs": [
    {
     "data": {
      "text/plain": [
       "'Hello Jakub! Super nice to talk with you. I love eating pizza und cola jega yummers! I am listen now to ing an interesting history podcast. Wowza! Polska gurom'"
      ]
     },
     "execution_count": 25,
     "metadata": {},
     "output_type": "execute_result"
    }
   ],
   "source": [
    "pipeline_augmentation(long_text)"
   ]
  },
  {
   "cell_type": "code",
   "execution_count": 26,
   "metadata": {},
   "outputs": [
    {
     "data": {
      "text/plain": [
       "'Hello Jakub! Super nice to talk with you. I love eating pizza und cola mega yummers! I am now listening to an interesting history podcast. Wowza! Polska gurom'"
      ]
     },
     "execution_count": 26,
     "metadata": {},
     "output_type": "execute_result"
    }
   ],
   "source": [
    "pipeline_augmentation(long_text)"
   ]
  },
  {
   "cell_type": "code",
   "execution_count": 18,
   "metadata": {},
   "outputs": [],
   "source": [
    "import pandas as pd\n",
    "from copy import deepcopy\n",
    "from tqdm.auto import tqdm\n",
    "from sklearn.metrics import accuracy_score, recall_score, precision_score, f1_score, roc_auc_score\n",
    "\n",
    "def get_df_sample(dataset_name, sample=None, is_test=False):\n",
    "    print(\"dataset_name:\", dataset_name)\n",
    "    \n",
    "    dataset = get_dataset(dataset_name, is_test=is_test)\n",
    "\n",
    "    df = pd.DataFrame({\n",
    "        \"text\": dataset.data,\n",
    "        \"label\": dataset.labels\n",
    "    }).dropna()\n",
    "    \n",
    "    if sample is not None:\n",
    "        df = df.sample(sample, random_state=42).reset_index()\n",
    "    return df\n",
    "\n",
    "def get_dataset_with_model_predictions(dataset_name, sample=None, augmentation=None, df=None):\n",
    "    if df is None:\n",
    "        df = get_df_sample(dataset_name, sample)\n",
    "\n",
    "    preds = []\n",
    "    for text in tqdm(df['text'], total=len(df)):\n",
    "        text_copy = deepcopy(text)\n",
    "        while len(tokenizer.tokenize(text_copy)) > 50:\n",
    "            text_copy = text_copy[:int(2 / 3 * len(text_copy))]\n",
    "\n",
    "        if augmentation is not None:\n",
    "            text_copy = augmentation(text_copy)\n",
    "            \n",
    "        preds.append(get_predictions_all(text_copy))\n",
    "\n",
    "    return pd.concat([df, pd.DataFrame(preds)], axis=1)\n",
    "\n",
    "def get_metrics_per_model(df_with_preds):\n",
    "    metrics = []\n",
    "    y_true = df_with_preds['label']\n",
    "    for model, _ in ALL_INFERENCE_MODELS:\n",
    "        y_pred = df_with_preds[model] > 0.5\n",
    "        y_pred_score = df_with_preds[model]\n",
    "        metrics.append({\"model\": model,\n",
    "                        \"auc\": roc_auc_score(y_true, y_pred_score),\n",
    "                        \"accuracy\": accuracy_score(y_true, y_pred),\n",
    "                        \"recall\": recall_score(y_true, y_pred),\n",
    "                        \"precision\": precision_score(y_true, y_pred),\n",
    "                        \"f1_score\": f1_score(y_true, y_pred)})\n",
    "    return pd.DataFrame(metrics)"
   ]
  },
  {
   "cell_type": "code",
   "execution_count": 19,
   "metadata": {},
   "outputs": [],
   "source": [
    "ALL_RESULTS = []"
   ]
  },
  {
   "cell_type": "code",
   "execution_count": 23,
   "metadata": {
    "scrolled": true,
    "tags": []
   },
   "outputs": [
    {
     "name": "stdout",
     "output_type": "stream",
     "text": [
      "dataset_name: Twibot22Dataset\n",
      "Using dataset file:  tweet_0.json since is_test is True\n"
     ]
    },
    {
     "name": "stderr",
     "output_type": "stream",
     "text": [
      "/gpfs/home4/scur1745/AdversarialGenAIDetector/src/data/datasets/twibot_22_dataset.py:54: FutureWarning: A value is trying to be set on a copy of a DataFrame or Series through chained assignment using an inplace method.\n",
      "The behavior will change in pandas 3.0. This inplace method will never work because the intermediate object on which we are setting values always behaves as a copy.\n",
      "\n",
      "For example, when doing 'df[col].method(value, inplace=True)', try using 'df.method({col: value}, inplace=True)' or df[col] = df[col].method(value) instead, to perform the operation inplace on the original object.\n",
      "\n",
      "\n",
      "  labels_df[\"label\"].replace({\"bot\": 1, \"human\": 0}, inplace=True)\n",
      "/gpfs/home4/scur1745/AdversarialGenAIDetector/src/data/datasets/twibot_22_dataset.py:54: FutureWarning: Downcasting behavior in `replace` is deprecated and will be removed in a future version. To retain the old behavior, explicitly call `result.infer_objects(copy=False)`. To opt-in to the future behavior, set `pd.set_option('future.no_silent_downcasting', True)`\n",
      "  labels_df[\"label\"].replace({\"bot\": 1, \"human\": 0}, inplace=True)\n"
     ]
    },
    {
     "name": "stdout",
     "output_type": "stream",
     "text": [
      "Loaded label counts:  defaultdict(<class 'int'>, {0: 500, 1: 500})\n"
     ]
    }
   ],
   "source": [
    "# Tweets\n",
    "twitter_data = get_df_sample(\"Twibot22Dataset\", is_test=True)"
   ]
  },
  {
   "cell_type": "code",
   "execution_count": 30,
   "metadata": {},
   "outputs": [
    {
     "data": {
      "text/plain": [
       "label\n",
       "0    500\n",
       "1    500\n",
       "Name: count, dtype: int64"
      ]
     },
     "execution_count": 30,
     "metadata": {},
     "output_type": "execute_result"
    }
   ],
   "source": [
    "twitter_data['label'].value_counts()"
   ]
  },
  {
   "cell_type": "code",
   "execution_count": 31,
   "metadata": {},
   "outputs": [
    {
     "data": {
      "application/vnd.jupyter.widget-view+json": {
       "model_id": "bb292ef080a3488fbb88f70fd4a54b30",
       "version_major": 2,
       "version_minor": 0
      },
      "text/plain": [
       "  0%|          | 0/1000 [00:00<?, ?it/s]"
      ]
     },
     "metadata": {},
     "output_type": "display_data"
    },
    {
     "name": "stderr",
     "output_type": "stream",
     "text": [
      "You seem to be using the pipelines sequentially on GPU. In order to maximize efficiency please use a dataset\n"
     ]
    },
    {
     "data": {
      "text/html": [
       "<div>\n",
       "<style scoped>\n",
       "    .dataframe tbody tr th:only-of-type {\n",
       "        vertical-align: middle;\n",
       "    }\n",
       "\n",
       "    .dataframe tbody tr th {\n",
       "        vertical-align: top;\n",
       "    }\n",
       "\n",
       "    .dataframe thead th {\n",
       "        text-align: right;\n",
       "    }\n",
       "</style>\n",
       "<table border=\"1\" class=\"dataframe\">\n",
       "  <thead>\n",
       "    <tr style=\"text-align: right;\">\n",
       "      <th></th>\n",
       "      <th>model</th>\n",
       "      <th>auc</th>\n",
       "      <th>accuracy</th>\n",
       "      <th>recall</th>\n",
       "      <th>precision</th>\n",
       "      <th>f1_score</th>\n",
       "      <th>task</th>\n",
       "    </tr>\n",
       "  </thead>\n",
       "  <tbody>\n",
       "    <tr>\n",
       "      <th>0</th>\n",
       "      <td>piratexx</td>\n",
       "      <td>0.487704</td>\n",
       "      <td>0.491</td>\n",
       "      <td>0.154</td>\n",
       "      <td>0.472393</td>\n",
       "      <td>0.232278</td>\n",
       "      <td>Twibot22Dataset</td>\n",
       "    </tr>\n",
       "    <tr>\n",
       "      <th>1</th>\n",
       "      <td>simpleai</td>\n",
       "      <td>0.430732</td>\n",
       "      <td>0.504</td>\n",
       "      <td>0.012</td>\n",
       "      <td>0.750000</td>\n",
       "      <td>0.023622</td>\n",
       "      <td>Twibot22Dataset</td>\n",
       "    </tr>\n",
       "    <tr>\n",
       "      <th>2</th>\n",
       "      <td>radar</td>\n",
       "      <td>0.556214</td>\n",
       "      <td>0.504</td>\n",
       "      <td>0.998</td>\n",
       "      <td>0.502012</td>\n",
       "      <td>0.668005</td>\n",
       "      <td>Twibot22Dataset</td>\n",
       "    </tr>\n",
       "    <tr>\n",
       "      <th>3</th>\n",
       "      <td>roberta_large</td>\n",
       "      <td>0.536000</td>\n",
       "      <td>0.500</td>\n",
       "      <td>1.000</td>\n",
       "      <td>0.500000</td>\n",
       "      <td>0.666667</td>\n",
       "      <td>Twibot22Dataset</td>\n",
       "    </tr>\n",
       "    <tr>\n",
       "      <th>4</th>\n",
       "      <td>radar_ours</td>\n",
       "      <td>0.478024</td>\n",
       "      <td>0.500</td>\n",
       "      <td>1.000</td>\n",
       "      <td>0.500000</td>\n",
       "      <td>0.666667</td>\n",
       "      <td>Twibot22Dataset</td>\n",
       "    </tr>\n",
       "    <tr>\n",
       "      <th>5</th>\n",
       "      <td>radar_ours_contrastive</td>\n",
       "      <td>0.556220</td>\n",
       "      <td>0.504</td>\n",
       "      <td>0.998</td>\n",
       "      <td>0.502012</td>\n",
       "      <td>0.668005</td>\n",
       "      <td>Twibot22Dataset</td>\n",
       "    </tr>\n",
       "  </tbody>\n",
       "</table>\n",
       "</div>"
      ],
      "text/plain": [
       "                    model       auc  accuracy  recall  precision  f1_score  \\\n",
       "0                piratexx  0.487704     0.491   0.154   0.472393  0.232278   \n",
       "1                simpleai  0.430732     0.504   0.012   0.750000  0.023622   \n",
       "2                   radar  0.556214     0.504   0.998   0.502012  0.668005   \n",
       "3           roberta_large  0.536000     0.500   1.000   0.500000  0.666667   \n",
       "4              radar_ours  0.478024     0.500   1.000   0.500000  0.666667   \n",
       "5  radar_ours_contrastive  0.556220     0.504   0.998   0.502012  0.668005   \n",
       "\n",
       "              task  \n",
       "0  Twibot22Dataset  \n",
       "1  Twibot22Dataset  \n",
       "2  Twibot22Dataset  \n",
       "3  Twibot22Dataset  \n",
       "4  Twibot22Dataset  \n",
       "5  Twibot22Dataset  "
      ]
     },
     "execution_count": 31,
     "metadata": {},
     "output_type": "execute_result"
    }
   ],
   "source": [
    "df_with_preds = get_dataset_with_model_predictions(\"none\", df=twitter_data)\n",
    "res_df = get_metrics_per_model(df_with_preds)\n",
    "res_df['task'] = \"Twibot22Dataset\"\n",
    "ALL_RESULTS.append(res_df)\n",
    "res_df"
   ]
  },
  {
   "cell_type": "code",
   "execution_count": 32,
   "metadata": {},
   "outputs": [
    {
     "name": "stdout",
     "output_type": "stream",
     "text": [
      "dataset_name: ResearchAbstracts\n"
     ]
    },
    {
     "data": {
      "application/vnd.jupyter.widget-view+json": {
       "model_id": "c3ed721cc7684f00b2d840f86e936ccf",
       "version_major": 2,
       "version_minor": 0
      },
      "text/plain": [
       "  0%|          | 0/1000 [00:00<?, ?it/s]"
      ]
     },
     "metadata": {},
     "output_type": "display_data"
    },
    {
     "data": {
      "text/html": [
       "<div>\n",
       "<style scoped>\n",
       "    .dataframe tbody tr th:only-of-type {\n",
       "        vertical-align: middle;\n",
       "    }\n",
       "\n",
       "    .dataframe tbody tr th {\n",
       "        vertical-align: top;\n",
       "    }\n",
       "\n",
       "    .dataframe thead th {\n",
       "        text-align: right;\n",
       "    }\n",
       "</style>\n",
       "<table border=\"1\" class=\"dataframe\">\n",
       "  <thead>\n",
       "    <tr style=\"text-align: right;\">\n",
       "      <th></th>\n",
       "      <th>model</th>\n",
       "      <th>auc</th>\n",
       "      <th>accuracy</th>\n",
       "      <th>recall</th>\n",
       "      <th>precision</th>\n",
       "      <th>f1_score</th>\n",
       "      <th>task</th>\n",
       "    </tr>\n",
       "  </thead>\n",
       "  <tbody>\n",
       "    <tr>\n",
       "      <th>0</th>\n",
       "      <td>piratexx</td>\n",
       "      <td>0.750244</td>\n",
       "      <td>0.664</td>\n",
       "      <td>0.459144</td>\n",
       "      <td>0.802721</td>\n",
       "      <td>0.584158</td>\n",
       "      <td>ResearchAbstracts 1000 sample</td>\n",
       "    </tr>\n",
       "    <tr>\n",
       "      <th>1</th>\n",
       "      <td>simpleai</td>\n",
       "      <td>0.715787</td>\n",
       "      <td>0.534</td>\n",
       "      <td>0.103113</td>\n",
       "      <td>0.913793</td>\n",
       "      <td>0.185315</td>\n",
       "      <td>ResearchAbstracts 1000 sample</td>\n",
       "    </tr>\n",
       "    <tr>\n",
       "      <th>2</th>\n",
       "      <td>radar</td>\n",
       "      <td>0.643250</td>\n",
       "      <td>0.518</td>\n",
       "      <td>1.000000</td>\n",
       "      <td>0.516064</td>\n",
       "      <td>0.680795</td>\n",
       "      <td>ResearchAbstracts 1000 sample</td>\n",
       "    </tr>\n",
       "    <tr>\n",
       "      <th>3</th>\n",
       "      <td>roberta_large</td>\n",
       "      <td>0.487326</td>\n",
       "      <td>0.514</td>\n",
       "      <td>1.000000</td>\n",
       "      <td>0.514000</td>\n",
       "      <td>0.678996</td>\n",
       "      <td>ResearchAbstracts 1000 sample</td>\n",
       "    </tr>\n",
       "    <tr>\n",
       "      <th>4</th>\n",
       "      <td>radar_ours</td>\n",
       "      <td>0.574418</td>\n",
       "      <td>0.514</td>\n",
       "      <td>1.000000</td>\n",
       "      <td>0.514000</td>\n",
       "      <td>0.678996</td>\n",
       "      <td>ResearchAbstracts 1000 sample</td>\n",
       "    </tr>\n",
       "    <tr>\n",
       "      <th>5</th>\n",
       "      <td>radar_ours_contrastive</td>\n",
       "      <td>0.643256</td>\n",
       "      <td>0.518</td>\n",
       "      <td>1.000000</td>\n",
       "      <td>0.516064</td>\n",
       "      <td>0.680795</td>\n",
       "      <td>ResearchAbstracts 1000 sample</td>\n",
       "    </tr>\n",
       "  </tbody>\n",
       "</table>\n",
       "</div>"
      ],
      "text/plain": [
       "                    model       auc  accuracy    recall  precision  f1_score  \\\n",
       "0                piratexx  0.750244     0.664  0.459144   0.802721  0.584158   \n",
       "1                simpleai  0.715787     0.534  0.103113   0.913793  0.185315   \n",
       "2                   radar  0.643250     0.518  1.000000   0.516064  0.680795   \n",
       "3           roberta_large  0.487326     0.514  1.000000   0.514000  0.678996   \n",
       "4              radar_ours  0.574418     0.514  1.000000   0.514000  0.678996   \n",
       "5  radar_ours_contrastive  0.643256     0.518  1.000000   0.516064  0.680795   \n",
       "\n",
       "                            task  \n",
       "0  ResearchAbstracts 1000 sample  \n",
       "1  ResearchAbstracts 1000 sample  \n",
       "2  ResearchAbstracts 1000 sample  \n",
       "3  ResearchAbstracts 1000 sample  \n",
       "4  ResearchAbstracts 1000 sample  \n",
       "5  ResearchAbstracts 1000 sample  "
      ]
     },
     "execution_count": 32,
     "metadata": {},
     "output_type": "execute_result"
    }
   ],
   "source": [
    "df_with_preds = get_dataset_with_model_predictions(\"ResearchAbstracts\", sample=1000)\n",
    "res_df = get_metrics_per_model(df_with_preds)\n",
    "res_df['task'] = \"ResearchAbstracts 1000 sample\"\n",
    "ALL_RESULTS.append(res_df)\n",
    "res_df"
   ]
  },
  {
   "cell_type": "code",
   "execution_count": 33,
   "metadata": {},
   "outputs": [
    {
     "name": "stdout",
     "output_type": "stream",
     "text": [
      "dataset_name: FollowUpQGDataset\n"
     ]
    },
    {
     "data": {
      "application/vnd.jupyter.widget-view+json": {
       "model_id": "4598777f235247f2adfdbf657abc9700",
       "version_major": 2,
       "version_minor": 0
      },
      "text/plain": [
       "  0%|          | 0/1000 [00:00<?, ?it/s]"
      ]
     },
     "metadata": {},
     "output_type": "display_data"
    },
    {
     "data": {
      "text/html": [
       "<div>\n",
       "<style scoped>\n",
       "    .dataframe tbody tr th:only-of-type {\n",
       "        vertical-align: middle;\n",
       "    }\n",
       "\n",
       "    .dataframe tbody tr th {\n",
       "        vertical-align: top;\n",
       "    }\n",
       "\n",
       "    .dataframe thead th {\n",
       "        text-align: right;\n",
       "    }\n",
       "</style>\n",
       "<table border=\"1\" class=\"dataframe\">\n",
       "  <thead>\n",
       "    <tr style=\"text-align: right;\">\n",
       "      <th></th>\n",
       "      <th>model</th>\n",
       "      <th>auc</th>\n",
       "      <th>accuracy</th>\n",
       "      <th>recall</th>\n",
       "      <th>precision</th>\n",
       "      <th>f1_score</th>\n",
       "      <th>task</th>\n",
       "    </tr>\n",
       "  </thead>\n",
       "  <tbody>\n",
       "    <tr>\n",
       "      <th>0</th>\n",
       "      <td>piratexx</td>\n",
       "      <td>0.728129</td>\n",
       "      <td>0.563</td>\n",
       "      <td>0.239521</td>\n",
       "      <td>0.681818</td>\n",
       "      <td>0.354505</td>\n",
       "      <td>HC3Dataset 1000 sample</td>\n",
       "    </tr>\n",
       "    <tr>\n",
       "      <th>1</th>\n",
       "      <td>simpleai</td>\n",
       "      <td>0.892822</td>\n",
       "      <td>0.805</td>\n",
       "      <td>0.776447</td>\n",
       "      <td>0.824153</td>\n",
       "      <td>0.799589</td>\n",
       "      <td>HC3Dataset 1000 sample</td>\n",
       "    </tr>\n",
       "    <tr>\n",
       "      <th>2</th>\n",
       "      <td>radar</td>\n",
       "      <td>0.332579</td>\n",
       "      <td>0.501</td>\n",
       "      <td>1.000000</td>\n",
       "      <td>0.501000</td>\n",
       "      <td>0.667555</td>\n",
       "      <td>HC3Dataset 1000 sample</td>\n",
       "    </tr>\n",
       "    <tr>\n",
       "      <th>3</th>\n",
       "      <td>roberta_large</td>\n",
       "      <td>0.490644</td>\n",
       "      <td>0.501</td>\n",
       "      <td>1.000000</td>\n",
       "      <td>0.501000</td>\n",
       "      <td>0.667555</td>\n",
       "      <td>HC3Dataset 1000 sample</td>\n",
       "    </tr>\n",
       "    <tr>\n",
       "      <th>4</th>\n",
       "      <td>radar_ours</td>\n",
       "      <td>0.510722</td>\n",
       "      <td>0.501</td>\n",
       "      <td>1.000000</td>\n",
       "      <td>0.501000</td>\n",
       "      <td>0.667555</td>\n",
       "      <td>HC3Dataset 1000 sample</td>\n",
       "    </tr>\n",
       "    <tr>\n",
       "      <th>5</th>\n",
       "      <td>radar_ours_contrastive</td>\n",
       "      <td>0.332569</td>\n",
       "      <td>0.501</td>\n",
       "      <td>1.000000</td>\n",
       "      <td>0.501000</td>\n",
       "      <td>0.667555</td>\n",
       "      <td>HC3Dataset 1000 sample</td>\n",
       "    </tr>\n",
       "  </tbody>\n",
       "</table>\n",
       "</div>"
      ],
      "text/plain": [
       "                    model       auc  accuracy    recall  precision  f1_score  \\\n",
       "0                piratexx  0.728129     0.563  0.239521   0.681818  0.354505   \n",
       "1                simpleai  0.892822     0.805  0.776447   0.824153  0.799589   \n",
       "2                   radar  0.332579     0.501  1.000000   0.501000  0.667555   \n",
       "3           roberta_large  0.490644     0.501  1.000000   0.501000  0.667555   \n",
       "4              radar_ours  0.510722     0.501  1.000000   0.501000  0.667555   \n",
       "5  radar_ours_contrastive  0.332569     0.501  1.000000   0.501000  0.667555   \n",
       "\n",
       "                     task  \n",
       "0  HC3Dataset 1000 sample  \n",
       "1  HC3Dataset 1000 sample  \n",
       "2  HC3Dataset 1000 sample  \n",
       "3  HC3Dataset 1000 sample  \n",
       "4  HC3Dataset 1000 sample  \n",
       "5  HC3Dataset 1000 sample  "
      ]
     },
     "execution_count": 33,
     "metadata": {},
     "output_type": "execute_result"
    }
   ],
   "source": [
    "df_with_preds = get_dataset_with_model_predictions(\"FollowUpQGDataset\", sample=1000)\n",
    "res_df = get_metrics_per_model(df_with_preds)\n",
    "res_df['task'] = \"HC3Dataset 1000 sample\"\n",
    "ALL_RESULTS.append(res_df)\n",
    "res_df"
   ]
  },
  {
   "cell_type": "code",
   "execution_count": 34,
   "metadata": {},
   "outputs": [
    {
     "name": "stdout",
     "output_type": "stream",
     "text": [
      "dataset_name: XsumLlama\n"
     ]
    },
    {
     "data": {
      "application/vnd.jupyter.widget-view+json": {
       "model_id": "54c85365a81442e6b00356bc363ccb0a",
       "version_major": 2,
       "version_minor": 0
      },
      "text/plain": [
       "  0%|          | 0/1000 [00:00<?, ?it/s]"
      ]
     },
     "metadata": {},
     "output_type": "display_data"
    },
    {
     "data": {
      "text/html": [
       "<div>\n",
       "<style scoped>\n",
       "    .dataframe tbody tr th:only-of-type {\n",
       "        vertical-align: middle;\n",
       "    }\n",
       "\n",
       "    .dataframe tbody tr th {\n",
       "        vertical-align: top;\n",
       "    }\n",
       "\n",
       "    .dataframe thead th {\n",
       "        text-align: right;\n",
       "    }\n",
       "</style>\n",
       "<table border=\"1\" class=\"dataframe\">\n",
       "  <thead>\n",
       "    <tr style=\"text-align: right;\">\n",
       "      <th></th>\n",
       "      <th>model</th>\n",
       "      <th>auc</th>\n",
       "      <th>accuracy</th>\n",
       "      <th>recall</th>\n",
       "      <th>precision</th>\n",
       "      <th>f1_score</th>\n",
       "      <th>task</th>\n",
       "    </tr>\n",
       "  </thead>\n",
       "  <tbody>\n",
       "    <tr>\n",
       "      <th>0</th>\n",
       "      <td>piratexx</td>\n",
       "      <td>0.444224</td>\n",
       "      <td>0.444</td>\n",
       "      <td>0.588</td>\n",
       "      <td>0.456522</td>\n",
       "      <td>0.513986</td>\n",
       "      <td>XsumLlama 1000 sample</td>\n",
       "    </tr>\n",
       "    <tr>\n",
       "      <th>1</th>\n",
       "      <td>simpleai</td>\n",
       "      <td>0.462350</td>\n",
       "      <td>0.539</td>\n",
       "      <td>0.190</td>\n",
       "      <td>0.629139</td>\n",
       "      <td>0.291859</td>\n",
       "      <td>XsumLlama 1000 sample</td>\n",
       "    </tr>\n",
       "    <tr>\n",
       "      <th>2</th>\n",
       "      <td>radar</td>\n",
       "      <td>0.652216</td>\n",
       "      <td>0.502</td>\n",
       "      <td>0.996</td>\n",
       "      <td>0.501006</td>\n",
       "      <td>0.666667</td>\n",
       "      <td>XsumLlama 1000 sample</td>\n",
       "    </tr>\n",
       "    <tr>\n",
       "      <th>3</th>\n",
       "      <td>roberta_large</td>\n",
       "      <td>0.518000</td>\n",
       "      <td>0.500</td>\n",
       "      <td>1.000</td>\n",
       "      <td>0.500000</td>\n",
       "      <td>0.666667</td>\n",
       "      <td>XsumLlama 1000 sample</td>\n",
       "    </tr>\n",
       "    <tr>\n",
       "      <th>4</th>\n",
       "      <td>radar_ours</td>\n",
       "      <td>0.449002</td>\n",
       "      <td>0.500</td>\n",
       "      <td>1.000</td>\n",
       "      <td>0.500000</td>\n",
       "      <td>0.666667</td>\n",
       "      <td>XsumLlama 1000 sample</td>\n",
       "    </tr>\n",
       "    <tr>\n",
       "      <th>5</th>\n",
       "      <td>radar_ours_contrastive</td>\n",
       "      <td>0.652244</td>\n",
       "      <td>0.502</td>\n",
       "      <td>0.996</td>\n",
       "      <td>0.501006</td>\n",
       "      <td>0.666667</td>\n",
       "      <td>XsumLlama 1000 sample</td>\n",
       "    </tr>\n",
       "  </tbody>\n",
       "</table>\n",
       "</div>"
      ],
      "text/plain": [
       "                    model       auc  accuracy  recall  precision  f1_score  \\\n",
       "0                piratexx  0.444224     0.444   0.588   0.456522  0.513986   \n",
       "1                simpleai  0.462350     0.539   0.190   0.629139  0.291859   \n",
       "2                   radar  0.652216     0.502   0.996   0.501006  0.666667   \n",
       "3           roberta_large  0.518000     0.500   1.000   0.500000  0.666667   \n",
       "4              radar_ours  0.449002     0.500   1.000   0.500000  0.666667   \n",
       "5  radar_ours_contrastive  0.652244     0.502   0.996   0.501006  0.666667   \n",
       "\n",
       "                    task  \n",
       "0  XsumLlama 1000 sample  \n",
       "1  XsumLlama 1000 sample  \n",
       "2  XsumLlama 1000 sample  \n",
       "3  XsumLlama 1000 sample  \n",
       "4  XsumLlama 1000 sample  \n",
       "5  XsumLlama 1000 sample  "
      ]
     },
     "execution_count": 34,
     "metadata": {},
     "output_type": "execute_result"
    }
   ],
   "source": [
    "df_with_preds = get_dataset_with_model_predictions(\"XsumLlama\", sample=1000)\n",
    "res_df = get_metrics_per_model(df_with_preds)\n",
    "res_df['task'] = \"XsumLlama 1000 sample\"\n",
    "ALL_RESULTS.append(res_df)\n",
    "res_df"
   ]
  },
  {
   "cell_type": "markdown",
   "metadata": {},
   "source": [
    "## Analysis Datasets"
   ]
  },
  {
   "cell_type": "code",
   "execution_count": 35,
   "metadata": {},
   "outputs": [
    {
     "name": "stdout",
     "output_type": "stream",
     "text": [
      "dataset_name: HC3Dataset\n"
     ]
    }
   ],
   "source": [
    "analysis_dataset = pd.concat([\n",
    "    # get_df_sample(\"FollowUpQGDataset\", 1000),\n",
    "    get_df_sample(\"HC3Dataset\", 1000),\n",
    "    # get_df_sample(\"ResearchAbstracts\", 1000)\n",
    "]).reset_index(drop=True)"
   ]
  },
  {
   "cell_type": "code",
   "execution_count": 36,
   "metadata": {},
   "outputs": [
    {
     "data": {
      "text/plain": [
       "label\n",
       "0    645\n",
       "1    355\n",
       "Name: count, dtype: int64"
      ]
     },
     "execution_count": 36,
     "metadata": {},
     "output_type": "execute_result"
    }
   ],
   "source": [
    "analysis_dataset['label'].value_counts()"
   ]
  },
  {
   "cell_type": "code",
   "execution_count": 37,
   "metadata": {},
   "outputs": [],
   "source": [
    "analysis_dataset['length'] = analysis_dataset['text'].apply(lambda x: len(x))"
   ]
  },
  {
   "cell_type": "code",
   "execution_count": 38,
   "metadata": {},
   "outputs": [],
   "source": [
    "import seaborn as sns\n",
    "import matplotlib.pyplot as plt"
   ]
  },
  {
   "cell_type": "code",
   "execution_count": 39,
   "metadata": {},
   "outputs": [
    {
     "name": "stderr",
     "output_type": "stream",
     "text": [
      "/scratch-local/scur1745.8168117/ipykernel_3157544/1840415745.py:2: FutureWarning: \n",
      "\n",
      "`shade` is now deprecated in favor of `fill`; setting `fill=True`.\n",
      "This will become an error in seaborn v0.14.0; please update your code.\n",
      "\n",
      "  sns.kdeplot(analysis_dataset.query('label == 1')['length'], label='AI-Text', shade=True, color='red')\n",
      "/scratch-local/scur1745.8168117/ipykernel_3157544/1840415745.py:3: FutureWarning: \n",
      "\n",
      "`shade` is now deprecated in favor of `fill`; setting `fill=True`.\n",
      "This will become an error in seaborn v0.14.0; please update your code.\n",
      "\n",
      "  sns.kdeplot(analysis_dataset.query('label == 0')['length'], label='Human', shade=True, color='blue')\n"
     ]
    },
    {
     "data": {
      "application/vnd.jupyter.widget-view+json": {
       "model_id": "23774b176f2641d6a6b716beb696a361",
       "version_major": 2,
       "version_minor": 0
      },
      "image/png": "[encoded data removed]",
      "text/html": [
       "\n",
       "            <div style=\"display: inline-block;\">\n",
       "                <div class=\"jupyter-widgets widget-label\" style=\"text-align: center;\">\n",
       "                    Figure\n",
       "                </div>\n",
       "                <img src='data:image/png;base64,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' width=1000.0/>\n",
       "            </div>\n",
       "        "
      ],
      "text/plain": [
       "Canvas(toolbar=Toolbar(toolitems=[('Home', 'Reset original view', 'home', 'home'), ('Back', 'Back to previous …"
      ]
     },
     "metadata": {},
     "output_type": "display_data"
    }
   ],
   "source": [
    "plt.figure(figsize=(10, 6))\n",
    "sns.kdeplot(analysis_dataset.query('label == 1')['length'], label='AI-Text', shade=True, color='red')\n",
    "sns.kdeplot(analysis_dataset.query('label == 0')['length'], label='Human', shade=True, color='blue')\n",
    "\n",
    "plt.title('Density Plot of Length for Different Labels')\n",
    "plt.xlabel('Length')\n",
    "plt.ylabel('Density')\n",
    "plt.legend()\n",
    "\n",
    "plt.savefig(\"src/notebooks/plots/density_plot.png\")\n",
    "plt.show()\n"
   ]
  },
  {
   "cell_type": "markdown",
   "metadata": {},
   "source": [
    "# Augmentations analysis"
   ]
  },
  {
   "cell_type": "code",
   "execution_count": 40,
   "metadata": {},
   "outputs": [
    {
     "name": "stdout",
     "output_type": "stream",
     "text": [
      "dataset_name: FollowUpQGDataset\n"
     ]
    },
    {
     "data": {
      "application/vnd.jupyter.widget-view+json": {
       "model_id": "88db1bdc6e7946bfaa7d14a2e2a1b7f9",
       "version_major": 2,
       "version_minor": 0
      },
      "text/plain": [
       "  0%|          | 0/100 [00:00<?, ?it/s]"
      ]
     },
     "metadata": {},
     "output_type": "display_data"
    },
    {
     "data": {
      "text/html": [
       "<div>\n",
       "<style scoped>\n",
       "    .dataframe tbody tr th:only-of-type {\n",
       "        vertical-align: middle;\n",
       "    }\n",
       "\n",
       "    .dataframe tbody tr th {\n",
       "        vertical-align: top;\n",
       "    }\n",
       "\n",
       "    .dataframe thead th {\n",
       "        text-align: right;\n",
       "    }\n",
       "</style>\n",
       "<table border=\"1\" class=\"dataframe\">\n",
       "  <thead>\n",
       "    <tr style=\"text-align: right;\">\n",
       "      <th></th>\n",
       "      <th>index</th>\n",
       "      <th>text</th>\n",
       "      <th>label</th>\n",
       "      <th>piratexx</th>\n",
       "      <th>simpleai</th>\n",
       "      <th>radar</th>\n",
       "      <th>roberta_large</th>\n",
       "      <th>radar_ours</th>\n",
       "      <th>radar_ours_contrastive</th>\n",
       "    </tr>\n",
       "  </thead>\n",
       "  <tbody>\n",
       "    <tr>\n",
       "      <th>0</th>\n",
       "      <td>521</td>\n",
       "      <td>Can you explain a bit more about how the negot...</td>\n",
       "      <td>1</td>\n",
       "      <td>0.000517</td>\n",
       "      <td>0.190548</td>\n",
       "      <td>0.999095</td>\n",
       "      <td>0.500615</td>\n",
       "      <td>0.539821</td>\n",
       "      <td>0.999095</td>\n",
       "    </tr>\n",
       "    <tr>\n",
       "      <th>1</th>\n",
       "      <td>739</td>\n",
       "      <td>What happens to the water in the ballast chamb...</td>\n",
       "      <td>1</td>\n",
       "      <td>0.118200</td>\n",
       "      <td>0.994875</td>\n",
       "      <td>0.998978</td>\n",
       "      <td>0.500615</td>\n",
       "      <td>0.540589</td>\n",
       "      <td>0.998978</td>\n",
       "    </tr>\n",
       "    <tr>\n",
       "      <th>2</th>\n",
       "      <td>823</td>\n",
       "      <td>What are some common factors apart from abrupt...</td>\n",
       "      <td>1</td>\n",
       "      <td>0.007132</td>\n",
       "      <td>0.030454</td>\n",
       "      <td>0.995983</td>\n",
       "      <td>0.500615</td>\n",
       "      <td>0.542399</td>\n",
       "      <td>0.995981</td>\n",
       "    </tr>\n",
       "    <tr>\n",
       "      <th>3</th>\n",
       "      <td>662</td>\n",
       "      <td>Could you explain why the reflections in the m...</td>\n",
       "      <td>1</td>\n",
       "      <td>0.001983</td>\n",
       "      <td>0.999132</td>\n",
       "      <td>0.999270</td>\n",
       "      <td>0.500615</td>\n",
       "      <td>0.540389</td>\n",
       "      <td>0.999270</td>\n",
       "    </tr>\n",
       "    <tr>\n",
       "      <th>4</th>\n",
       "      <td>411</td>\n",
       "      <td>So when my plant says it wants to be humid and...</td>\n",
       "      <td>0</td>\n",
       "      <td>0.000784</td>\n",
       "      <td>0.898544</td>\n",
       "      <td>0.979397</td>\n",
       "      <td>0.500615</td>\n",
       "      <td>0.545572</td>\n",
       "      <td>0.979394</td>\n",
       "    </tr>\n",
       "    <tr>\n",
       "      <th>...</th>\n",
       "      <td>...</td>\n",
       "      <td>...</td>\n",
       "      <td>...</td>\n",
       "      <td>...</td>\n",
       "      <td>...</td>\n",
       "      <td>...</td>\n",
       "      <td>...</td>\n",
       "      <td>...</td>\n",
       "      <td>...</td>\n",
       "    </tr>\n",
       "    <tr>\n",
       "      <th>95</th>\n",
       "      <td>436</td>\n",
       "      <td>I thought carrots were the only vegetable heal...</td>\n",
       "      <td>0</td>\n",
       "      <td>0.000325</td>\n",
       "      <td>0.037796</td>\n",
       "      <td>0.997589</td>\n",
       "      <td>0.500615</td>\n",
       "      <td>0.533632</td>\n",
       "      <td>0.997588</td>\n",
       "    </tr>\n",
       "    <tr>\n",
       "      <th>96</th>\n",
       "      <td>894</td>\n",
       "      <td>Can you give more examples of exceptions that ...</td>\n",
       "      <td>1</td>\n",
       "      <td>0.283418</td>\n",
       "      <td>0.989364</td>\n",
       "      <td>0.998638</td>\n",
       "      <td>0.500615</td>\n",
       "      <td>0.539352</td>\n",
       "      <td>0.998637</td>\n",
       "    </tr>\n",
       "    <tr>\n",
       "      <th>97</th>\n",
       "      <td>88</td>\n",
       "      <td>so in other words...  If \"normal math\", like (...</td>\n",
       "      <td>0</td>\n",
       "      <td>0.000646</td>\n",
       "      <td>0.000495</td>\n",
       "      <td>0.999145</td>\n",
       "      <td>0.500615</td>\n",
       "      <td>0.521227</td>\n",
       "      <td>0.999145</td>\n",
       "    </tr>\n",
       "    <tr>\n",
       "      <th>98</th>\n",
       "      <td>63</td>\n",
       "      <td>Are you referring to SSAA? Because if you do, ...</td>\n",
       "      <td>0</td>\n",
       "      <td>0.077888</td>\n",
       "      <td>0.214162</td>\n",
       "      <td>0.998100</td>\n",
       "      <td>0.500615</td>\n",
       "      <td>0.546444</td>\n",
       "      <td>0.998099</td>\n",
       "    </tr>\n",
       "    <tr>\n",
       "      <th>99</th>\n",
       "      <td>828</td>\n",
       "      <td>What are some examples of how market forces or...</td>\n",
       "      <td>1</td>\n",
       "      <td>0.979944</td>\n",
       "      <td>0.984946</td>\n",
       "      <td>0.998300</td>\n",
       "      <td>0.500615</td>\n",
       "      <td>0.538695</td>\n",
       "      <td>0.998299</td>\n",
       "    </tr>\n",
       "  </tbody>\n",
       "</table>\n",
       "<p>100 rows × 9 columns</p>\n",
       "</div>"
      ],
      "text/plain": [
       "    index                                               text  label  piratexx  \\\n",
       "0     521  Can you explain a bit more about how the negot...      1  0.000517   \n",
       "1     739  What happens to the water in the ballast chamb...      1  0.118200   \n",
       "2     823  What are some common factors apart from abrupt...      1  0.007132   \n",
       "3     662  Could you explain why the reflections in the m...      1  0.001983   \n",
       "4     411  So when my plant says it wants to be humid and...      0  0.000784   \n",
       "..    ...                                                ...    ...       ...   \n",
       "95    436  I thought carrots were the only vegetable heal...      0  0.000325   \n",
       "96    894  Can you give more examples of exceptions that ...      1  0.283418   \n",
       "97     88  so in other words...  If \"normal math\", like (...      0  0.000646   \n",
       "98     63  Are you referring to SSAA? Because if you do, ...      0  0.077888   \n",
       "99    828  What are some examples of how market forces or...      1  0.979944   \n",
       "\n",
       "    simpleai     radar  roberta_large  radar_ours  radar_ours_contrastive  \n",
       "0   0.190548  0.999095       0.500615    0.539821                0.999095  \n",
       "1   0.994875  0.998978       0.500615    0.540589                0.998978  \n",
       "2   0.030454  0.995983       0.500615    0.542399                0.995981  \n",
       "3   0.999132  0.999270       0.500615    0.540389                0.999270  \n",
       "4   0.898544  0.979397       0.500615    0.545572                0.979394  \n",
       "..       ...       ...            ...         ...                     ...  \n",
       "95  0.037796  0.997589       0.500615    0.533632                0.997588  \n",
       "96  0.989364  0.998638       0.500615    0.539352                0.998637  \n",
       "97  0.000495  0.999145       0.500615    0.521227                0.999145  \n",
       "98  0.214162  0.998100       0.500615    0.546444                0.998099  \n",
       "99  0.984946  0.998300       0.500615    0.538695                0.998299  \n",
       "\n",
       "[100 rows x 9 columns]"
      ]
     },
     "execution_count": 40,
     "metadata": {},
     "output_type": "execute_result"
    }
   ],
   "source": [
    "get_dataset_with_model_predictions(\"FollowUpQGDataset\", sample=100)"
   ]
  },
  {
   "cell_type": "code",
   "execution_count": 24,
   "metadata": {},
   "outputs": [],
   "source": [
    "datasets_to_eval = [\"XsumVicuna\", \"XsumLlama\", \"FollowUpQGDataset\", \"ResearchAbstracts\", \"HC3Dataset\", \"TwitterBotDataset\"]\n",
    "\n",
    "def get_analysis_with_augmentation(augmentation: callable, N=1000):\n",
    "    # Get predictions baseline\n",
    "    results = []\n",
    "    for dataset in datasets_to_eval:\n",
    "        df_with_preds = get_dataset_with_model_predictions(dataset, sample=N)\n",
    "        res_df = get_metrics_per_model(df_with_preds)[['model', 'auc']].rename(columns={'auc': 'Baseline AUC'})\n",
    "        res_df['dataset'] = dataset\n",
    "\n",
    "        df_with_preds = get_dataset_with_model_predictions(dataset, sample=N, augmentation=augmentation)\n",
    "        res_df2 = get_metrics_per_model(df_with_preds)[['model', 'auc']].rename(columns={'auc': 'Augmented AUC'})\n",
    "        results.append(pd.merge(res_df, res_df2, on='model'))\n",
    "\n",
    "    return results"
   ]
  },
  {
   "cell_type": "code",
   "execution_count": null,
   "metadata": {},
   "outputs": [],
   "source": [
    "augmentation = create_augmentation_pipeline_proba()\n",
    "augmentation"
   ]
  },
  {
   "cell_type": "code",
   "execution_count": null,
   "metadata": {},
   "outputs": [
    {
     "name": "stdout",
     "output_type": "stream",
     "text": [
      "dataset_name: XsumVicuna\n"
     ]
    },
    {
     "data": {
      "application/vnd.jupyter.widget-view+json": {
       "model_id": "abdd1f4e9f82499f9032e798a6a32539",
       "version_major": 2,
       "version_minor": 0
      },
      "text/plain": [
       "  0%|          | 0/1000 [00:00<?, ?it/s]"
      ]
     },
     "metadata": {},
     "output_type": "display_data"
    },
    {
     "name": "stdout",
     "output_type": "stream",
     "text": [
      "dataset_name: XsumVicuna\n"
     ]
    },
    {
     "data": {
      "application/vnd.jupyter.widget-view+json": {
       "model_id": "fbfa62846dc3435591d59451d04cf96c",
       "version_major": 2,
       "version_minor": 0
      },
      "text/plain": [
       "  0%|          | 0/1000 [00:00<?, ?it/s]"
      ]
     },
     "metadata": {},
     "output_type": "display_data"
    },
    {
     "name": "stdout",
     "output_type": "stream",
     "text": [
      "dataset_name: XsumLlama\n"
     ]
    },
    {
     "data": {
      "application/vnd.jupyter.widget-view+json": {
       "model_id": "95182f7d8ba549efa9e3a6fdce810abd",
       "version_major": 2,
       "version_minor": 0
      },
      "text/plain": [
       "  0%|          | 0/1000 [00:00<?, ?it/s]"
      ]
     },
     "metadata": {},
     "output_type": "display_data"
    },
    {
     "name": "stdout",
     "output_type": "stream",
     "text": [
      "dataset_name: XsumLlama\n"
     ]
    },
    {
     "data": {
      "application/vnd.jupyter.widget-view+json": {
       "model_id": "dc3ac7ba812e4f859b360b67b3157552",
       "version_major": 2,
       "version_minor": 0
      },
      "text/plain": [
       "  0%|          | 0/1000 [00:00<?, ?it/s]"
      ]
     },
     "metadata": {},
     "output_type": "display_data"
    },
    {
     "name": "stdout",
     "output_type": "stream",
     "text": [
      "dataset_name: FollowUpQGDataset\n"
     ]
    },
    {
     "data": {
      "application/vnd.jupyter.widget-view+json": {
       "model_id": "bd51a5dc42ad44e2ba5a005fa7cf29de",
       "version_major": 2,
       "version_minor": 0
      },
      "text/plain": [
       "  0%|          | 0/1000 [00:00<?, ?it/s]"
      ]
     },
     "metadata": {},
     "output_type": "display_data"
    },
    {
     "name": "stdout",
     "output_type": "stream",
     "text": [
      "dataset_name: FollowUpQGDataset\n"
     ]
    },
    {
     "data": {
      "application/vnd.jupyter.widget-view+json": {
       "model_id": "7ca7d0abe2954463966985b37fe29cc4",
       "version_major": 2,
       "version_minor": 0
      },
      "text/plain": [
       "  0%|          | 0/1000 [00:00<?, ?it/s]"
      ]
     },
     "metadata": {},
     "output_type": "display_data"
    },
    {
     "name": "stdout",
     "output_type": "stream",
     "text": [
      "dataset_name: ResearchAbstracts\n"
     ]
    },
    {
     "data": {
      "application/vnd.jupyter.widget-view+json": {
       "model_id": "988ade5ed5b7498b8c11810bece608be",
       "version_major": 2,
       "version_minor": 0
      },
      "text/plain": [
       "  0%|          | 0/1000 [00:00<?, ?it/s]"
      ]
     },
     "metadata": {},
     "output_type": "display_data"
    },
    {
     "name": "stdout",
     "output_type": "stream",
     "text": [
      "dataset_name: ResearchAbstracts\n"
     ]
    },
    {
     "data": {
      "application/vnd.jupyter.widget-view+json": {
       "model_id": "2da1d34343134433b4de862393716754",
       "version_major": 2,
       "version_minor": 0
      },
      "text/plain": [
       "  0%|          | 0/1000 [00:00<?, ?it/s]"
      ]
     },
     "metadata": {},
     "output_type": "display_data"
    }
   ],
   "source": [
    "results = get_analysis_with_augmentation(augmentation)"
   ]
  },
  {
   "cell_type": "code",
   "execution_count": null,
   "metadata": {},
   "outputs": [],
   "source": [
    "results"
   ]
  },
  {
   "cell_type": "code",
   "execution_count": null,
   "metadata": {},
   "outputs": [],
   "source": [
    "results_df = pd.concat([*results])"
   ]
  },
  {
   "cell_type": "code",
   "execution_count": null,
   "metadata": {},
   "outputs": [],
   "source": [
    "results_df"
   ]
  },
  {
   "cell_type": "code",
   "execution_count": null,
   "metadata": {},
   "outputs": [],
   "source": [
    "results_df.to_csv('results_augmentation.csv')"
   ]
  },
  {
   "cell_type": "code",
   "execution_count": null,
   "metadata": {},
   "outputs": [],
   "source": [
    "model_name_mapping = {\n",
    "    \"piratexx\": \"PirateXX\",\n",
    "    \"radar\": \"RADAR-Vicuna-7B\",\n",
    "    \"simpleai\": \"ChatGPT RoBERTa\",\n",
    "    \"roberta_large\": \"RoBERTa Large\",\n",
    "    \"radar_ours\": \"RADAR (ours)\",\n",
    "    \"radar_ours_contrastive\": \"C-RADAR (ours)\"\n",
    "}"
   ]
  },
  {
   "cell_type": "code",
   "execution_count": null,
   "metadata": {},
   "outputs": [],
   "source": [
    "results_df['model'] = results_df['model'].apply(lambda x: model_name_mapping[x])"
   ]
  },
  {
   "cell_type": "code",
   "execution_count": null,
   "metadata": {},
   "outputs": [],
   "source": [
    "results_df"
   ]
  },
  {
   "cell_type": "code",
   "execution_count": null,
   "metadata": {},
   "outputs": [],
   "source": [
    "import matplotlib.pyplot as plt\n",
    "\n",
    "# Plot the bar chart\n",
    "ax = results_df.groupby(by='model')[['Baseline AUC', 'Augmented AUC']].mean().plot.bar(figsize=(10, 7))\n",
    "\n",
    "# Add the values on top of the bars\n",
    "for p in ax.patches:\n",
    "    ax.annotate(format(p.get_height(), '.2f'),  # Format to two decimal places\n",
    "                (p.get_x() + p.get_width() / 2., p.get_height() * 0.9),  # Position of the annotation\n",
    "                ha = 'center', va = 'center', \n",
    "                xytext=(0, 10),  # Offset of the text\n",
    "                textcoords='offset points')\n",
    "\n",
    "plt.tight_layout()\n",
    "plt.savefig(\"src/notebooks/plots/augmentation_plot.png\", bbox_inches = 'tight')\n",
    "plt.show()"
   ]
  },
  {
   "cell_type": "markdown",
   "metadata": {},
   "source": [
    "# Augmentation vs drop"
   ]
  },
  {
   "cell_type": "code",
   "execution_count": 25,
   "metadata": {},
   "outputs": [
    {
     "name": "stdout",
     "output_type": "stream",
     "text": [
      "dataset_name: XsumVicuna\n",
      "dataset_name: XsumLlama\n",
      "dataset_name: FollowUpQGDataset\n",
      "dataset_name: ResearchAbstracts\n",
      "dataset_name: HC3Dataset\n",
      "dataset_name: TwitterBotDataset\n"
     ]
    }
   ],
   "source": [
    "dataset_to_test = pd.concat([\n",
    "    get_df_sample(dataset, 1000) for dataset in datasets_to_eval] + [twitter_data]).reset_index(drop=True)"
   ]
  },
  {
   "cell_type": "code",
   "execution_count": 26,
   "metadata": {},
   "outputs": [
    {
     "data": {
      "text/html": [
       "<div>\n",
       "<style scoped>\n",
       "    .dataframe tbody tr th:only-of-type {\n",
       "        vertical-align: middle;\n",
       "    }\n",
       "\n",
       "    .dataframe tbody tr th {\n",
       "        vertical-align: top;\n",
       "    }\n",
       "\n",
       "    .dataframe thead th {\n",
       "        text-align: right;\n",
       "    }\n",
       "</style>\n",
       "<table border=\"1\" class=\"dataframe\">\n",
       "  <thead>\n",
       "    <tr style=\"text-align: right;\">\n",
       "      <th></th>\n",
       "      <th>index</th>\n",
       "      <th>text</th>\n",
       "      <th>label</th>\n",
       "    </tr>\n",
       "  </thead>\n",
       "  <tbody>\n",
       "    <tr>\n",
       "      <th>0</th>\n",
       "      <td>521.0</td>\n",
       "      <td>Big oil producing nations meet this weekend in...</td>\n",
       "      <td>1</td>\n",
       "    </tr>\n",
       "    <tr>\n",
       "      <th>1</th>\n",
       "      <td>737.0</td>\n",
       "      <td>Archaeologists working for the National Trust ...</td>\n",
       "      <td>1</td>\n",
       "    </tr>\n",
       "    <tr>\n",
       "      <th>2</th>\n",
       "      <td>740.0</td>\n",
       "      <td>Official figures showed the value of sales ros...</td>\n",
       "      <td>1</td>\n",
       "    </tr>\n",
       "    <tr>\n",
       "      <th>3</th>\n",
       "      <td>660.0</td>\n",
       "      <td>The Conservative leader said a future governme...</td>\n",
       "      <td>1</td>\n",
       "    </tr>\n",
       "    <tr>\n",
       "      <th>4</th>\n",
       "      <td>411.0</td>\n",
       "      <td>The blaze started at the detached building in ...</td>\n",
       "      <td>0</td>\n",
       "    </tr>\n",
       "    <tr>\n",
       "      <th>...</th>\n",
       "      <td>...</td>\n",
       "      <td>...</td>\n",
       "      <td>...</td>\n",
       "    </tr>\n",
       "    <tr>\n",
       "      <th>6995</th>\n",
       "      <td>NaN</td>\n",
       "      <td>@MEXC_Global listing @MContent_ on Feb 26 🔥🚀🌙🥳...</td>\n",
       "      <td>1</td>\n",
       "    </tr>\n",
       "    <tr>\n",
       "      <th>6996</th>\n",
       "      <td>NaN</td>\n",
       "      <td>RT @fighter_divine: @bitforexcom listed #Bitge...</td>\n",
       "      <td>1</td>\n",
       "    </tr>\n",
       "    <tr>\n",
       "      <th>6997</th>\n",
       "      <td>NaN</td>\n",
       "      <td>@bitforexcom listed #Bitgert 🔥🚀🌙\\n\\n#BRISE #br...</td>\n",
       "      <td>1</td>\n",
       "    </tr>\n",
       "    <tr>\n",
       "      <th>6998</th>\n",
       "      <td>NaN</td>\n",
       "      <td>RT @fighter_divine: #btc chart from years 🔥🚀🌙\\...</td>\n",
       "      <td>1</td>\n",
       "    </tr>\n",
       "    <tr>\n",
       "      <th>6999</th>\n",
       "      <td>NaN</td>\n",
       "      <td>#btc chart from years 🔥🚀🌙\\n\\n#BTCUSDT #btcturk...</td>\n",
       "      <td>1</td>\n",
       "    </tr>\n",
       "  </tbody>\n",
       "</table>\n",
       "<p>7000 rows × 3 columns</p>\n",
       "</div>"
      ],
      "text/plain": [
       "      index                                               text  label\n",
       "0     521.0  Big oil producing nations meet this weekend in...      1\n",
       "1     737.0  Archaeologists working for the National Trust ...      1\n",
       "2     740.0  Official figures showed the value of sales ros...      1\n",
       "3     660.0  The Conservative leader said a future governme...      1\n",
       "4     411.0  The blaze started at the detached building in ...      0\n",
       "...     ...                                                ...    ...\n",
       "6995    NaN  @MEXC_Global listing @MContent_ on Feb 26 🔥🚀🌙🥳...      1\n",
       "6996    NaN  RT @fighter_divine: @bitforexcom listed #Bitge...      1\n",
       "6997    NaN  @bitforexcom listed #Bitgert 🔥🚀🌙\\n\\n#BRISE #br...      1\n",
       "6998    NaN  RT @fighter_divine: #btc chart from years 🔥🚀🌙\\...      1\n",
       "6999    NaN  #btc chart from years 🔥🚀🌙\\n\\n#BTCUSDT #btcturk...      1\n",
       "\n",
       "[7000 rows x 3 columns]"
      ]
     },
     "execution_count": 26,
     "metadata": {},
     "output_type": "execute_result"
    }
   ],
   "source": [
    "dataset_to_test"
   ]
  },
  {
   "cell_type": "markdown",
   "metadata": {},
   "source": [
    "#### Compare Augmentations"
   ]
  },
  {
   "cell_type": "code",
   "execution_count": null,
   "metadata": {},
   "outputs": [],
   "source": [
    "augmentations_analysis = []\n",
    "N = 1000"
   ]
  },
  {
   "cell_type": "code",
   "execution_count": null,
   "metadata": {},
   "outputs": [],
   "source": [
    "df_with_preds = get_dataset_with_model_predictions(\"All\", sample=1000, df=dataset_to_test.sample(N).reset_index())\n",
    "metrics = get_metrics_per_model(df_with_preds)\n",
    "metrics['Augmentation'] = None\n",
    "augmentations_analysis.append(metrics)"
   ]
  },
  {
   "cell_type": "code",
   "execution_count": null,
   "metadata": {},
   "outputs": [],
   "source": [
    "from src.data.transformation.augmentation import RandomNeighbouringWordSwapWithProbability, RandomTypoWithProbability, RandomSpaceWithProbability"
   ]
  },
  {
   "cell_type": "code",
   "execution_count": null,
   "metadata": {},
   "outputs": [],
   "source": [
    "df_with_preds = get_dataset_with_model_predictions(\"All\", sample=1000,\n",
    "                                                   df=dataset_to_test.sample(N).reset_index(),\n",
    "                                                   augmentation=RandomNeighbouringWordSwapWithProbability(0.02))\n",
    "metrics = get_metrics_per_model(df_with_preds)\n",
    "metrics['Augmentation'] = \"Random Word Swap (2% words)\"\n",
    "augmentations_analysis.append(metrics)"
   ]
  },
  {
   "cell_type": "code",
   "execution_count": null,
   "metadata": {},
   "outputs": [],
   "source": [
    "df_with_preds = get_dataset_with_model_predictions(\"All\", sample=1000,\n",
    "                                                   df=dataset_to_test.sample(N).reset_index(),\n",
    "                                                   augmentation=RandomTypoWithProbability(0.02))\n",
    "metrics = get_metrics_per_model(df_with_preds)\n",
    "metrics['Augmentation'] = \"Random Typo (2% letters)\"\n",
    "augmentations_analysis.append(metrics)"
   ]
  },
  {
   "cell_type": "code",
   "execution_count": null,
   "metadata": {},
   "outputs": [],
   "source": [
    "df_with_preds = get_dataset_with_model_predictions(\"All\", sample=1000,\n",
    "                                                   df=dataset_to_test.sample(N).reset_index(),\n",
    "                                                   augmentation=RandomSpaceWithProbability(0.02))\n",
    "metrics = get_metrics_per_model(df_with_preds)\n",
    "metrics['Augmentation'] = \"Random Whitespace (2% letters)\"\n",
    "augmentations_analysis.append(metrics)"
   ]
  },
  {
   "cell_type": "code",
   "execution_count": null,
   "metadata": {},
   "outputs": [],
   "source": [
    "augmentation_results_df = pd.concat(augmentations_analysis)\n",
    "augmentation_results_df['Augmentation'] = augmentation_results_df['Augmentation'].fillna('None')\n",
    "augmentation_results_df.groupby(by='Augmentation')[['auc', 'accuracy', 'recall', 'precision', 'f1_score']].mean()"
   ]
  },
  {
   "cell_type": "code",
   "execution_count": null,
   "metadata": {},
   "outputs": [],
   "source": [
    "# existing radar checkpoint is bad on other tests sets than vicuna 7b\n",
    "# implemention radar from scratch is difficult and it does not work as promised\n",
    "# radar is not robust to these perturbations\n",
    "# TODO: perturtbations that change style\n",
    "# length vs accuracy is not biased\n",
    "# IN PROGRESS: we train more robust model for twitter data - we don't have that\n",
    "    # we train model without perturbations in training data\n",
    "    # we train model with perturbations in training data\n",
    "    # hypothesis: the second one will be more robust\n",
    "# "
   ]
  },
  {
   "cell_type": "markdown",
   "metadata": {},
   "source": [
    "# Length vs accuracy"
   ]
  },
  {
   "cell_type": "code",
   "execution_count": null,
   "metadata": {},
   "outputs": [
    {
     "data": {
      "application/vnd.jupyter.widget-view+json": {
       "model_id": "b2fcf5b807ec4387a0852138c5d95ce2",
       "version_major": 2,
       "version_minor": 0
      },
      "text/plain": [
       "  0%|          | 0/7000 [00:00<?, ?it/s]"
      ]
     },
     "metadata": {},
     "output_type": "display_data"
    },
    {
     "name": "stderr",
     "output_type": "stream",
     "text": [
      "You seem to be using the pipelines sequentially on GPU. In order to maximize efficiency please use a dataset\n"
     ]
    }
   ],
   "source": [
    "analysis_with_preds = get_dataset_with_model_predictions(\"xd\", df=dataset_to_test)"
   ]
  },
  {
   "cell_type": "code",
   "execution_count": null,
   "metadata": {},
   "outputs": [],
   "source": [
    "def length_vs_accuracy(analysis_with_preds, title):\n",
    "    # Step 1: Divide the \"length\" column into 5 equal-sized bins and extract bin ranges\n",
    "    analysis_with_preds['length'] = analysis_with_preds['text'].apply(lambda x: len(x))\n",
    "    analysis_with_preds['length_bin'], bin_edges = pd.qcut(analysis_with_preds['length'], q=5, retbins=True, labels=False)\n",
    "    \n",
    "    # Step 2: Calculate AUC for each model in each bin\n",
    "    models = ['piratexx', 'simpleai', 'radar', 'roberta_large']\n",
    "    auc_results = {}\n",
    "    \n",
    "    for model in models:\n",
    "        auc_per_bin = []\n",
    "        positive_rate_per_bin = []\n",
    "        for bin_value in range(5):\n",
    "            # Filter rows that belong to the current bin\n",
    "            bin_data = analysis_with_preds[analysis_with_preds['length_bin'] == bin_value]\n",
    "            len_samples_balanced = min(len(bin_data.query('label == True')), len(bin_data.query('label == False')))\n",
    "            bin_data_balanced = pd.concat([\n",
    "                bin_data.query('label == True').sample(len_samples_balanced),\n",
    "                bin_data.query('label == False').sample(len_samples_balanced)\n",
    "            ])\n",
    "            # Calculate AUC for the model in the current bin\n",
    "            auc = roc_auc_score(bin_data_balanced['label'], bin_data_balanced[model])\n",
    "            positive_rate_per_bin.append(bin_data_balanced['label'].mean())\n",
    "            auc_per_bin.append(auc)\n",
    "        \n",
    "        auc_results[model] = auc_per_bin\n",
    "    \n",
    "    # Step 3: Plot the results with bin ranges as x-axis labels\n",
    "    bin_ranges = [f'{int(bin_edges[i])}-{int(bin_edges[i+1])}' for i in range(len(bin_edges)-1)]\n",
    "    \n",
    "    plt.figure(figsize=(12, 6))\n",
    "    \n",
    "    # Plot AUC results for each model\n",
    "    for model, aucs in auc_results.items():\n",
    "        plt.plot(bin_ranges, aucs, marker='o', label=model)\n",
    "    \n",
    "    # Add labels and title\n",
    "    plt.xlabel('Text Length')\n",
    "    plt.ylabel('AUC')\n",
    "    plt.title(title)\n",
    "    plt.xticks(np.arange(len(bin_ranges)), bin_ranges, rotation=45)\n",
    "    plt.legend(title='Model')\n",
    "    \n",
    "    # Show plot\n",
    "    plt.grid(True)\n",
    "    plt.savefig(f\"src/notebooks/plots/{model}_text_length_vs_auc.png\", bbox_inches = 'tight')\n",
    "    plt.show()\n",
    "\n",
    "    return positive_rate_per_bin"
   ]
  },
  {
   "cell_type": "code",
   "execution_count": null,
   "metadata": {},
   "outputs": [],
   "source": [
    "length_vs_accuracy(analysis_with_preds, 'AUC vs Text Length. Each bin balanced to 50% positive rate')"
   ]
  },
  {
   "cell_type": "code",
   "execution_count": null,
   "metadata": {},
   "outputs": [],
   "source": []
  }
 ],
 "metadata": {
  "kernelspec": {
   "display_name": "dl4nlp",
   "language": "python",
   "name": "dl4nlp"
  },
  "language_info": {
   "codemirror_mode": {
    "name": "ipython",
    "version": 3
   },
   "file_extension": ".py",
   "mimetype": "text/x-python",
   "name": "python",
   "nbconvert_exporter": "python",
   "pygments_lexer": "ipython3",
   "version": "3.11.5"
  }
 },
 "nbformat": 4,
 "nbformat_minor": 4
}
